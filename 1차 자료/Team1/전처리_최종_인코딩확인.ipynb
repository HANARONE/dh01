{
 "cells": [
  {
   "cell_type": "markdown",
   "metadata": {},
   "source": [
    "## 인코딩확인"
   ]
  },
  {
   "cell_type": "code",
   "execution_count": 1,
   "metadata": {},
   "outputs": [],
   "source": [
    "import numpy as np\n",
    "import pandas as pd\n",
    "import matplotlib.pyplot as plt\n",
    "import seaborn as sns\n",
    "import scipy.stats as stats\n",
    "import statistics"
   ]
  },
  {
   "cell_type": "code",
   "execution_count": 2,
   "metadata": {},
   "outputs": [
    {
     "data": {
      "text/html": [
       "<div>\n",
       "<style scoped>\n",
       "    .dataframe tbody tr th:only-of-type {\n",
       "        vertical-align: middle;\n",
       "    }\n",
       "\n",
       "    .dataframe tbody tr th {\n",
       "        vertical-align: top;\n",
       "    }\n",
       "\n",
       "    .dataframe thead th {\n",
       "        text-align: right;\n",
       "    }\n",
       "</style>\n",
       "<table border=\"1\" class=\"dataframe\">\n",
       "  <thead>\n",
       "    <tr style=\"text-align: right;\">\n",
       "      <th></th>\n",
       "      <th>ID</th>\n",
       "      <th>Customer_ID</th>\n",
       "      <th>Month</th>\n",
       "      <th>Name</th>\n",
       "      <th>Age</th>\n",
       "      <th>SSN</th>\n",
       "      <th>Occupation</th>\n",
       "      <th>Annual_Income</th>\n",
       "      <th>Monthly_Inhand_Salary</th>\n",
       "      <th>Num_Bank_Accounts</th>\n",
       "      <th>...</th>\n",
       "      <th>Num_Credit_Inquiries</th>\n",
       "      <th>Credit_Mix</th>\n",
       "      <th>Outstanding_Debt</th>\n",
       "      <th>Credit_Utilization_Ratio</th>\n",
       "      <th>Credit_History_Age</th>\n",
       "      <th>Payment_of_Min_Amount</th>\n",
       "      <th>Total_EMI_per_month</th>\n",
       "      <th>Amount_invested_monthly</th>\n",
       "      <th>Payment_Behaviour</th>\n",
       "      <th>Monthly_Balance</th>\n",
       "    </tr>\n",
       "  </thead>\n",
       "  <tbody>\n",
       "    <tr>\n",
       "      <th>0</th>\n",
       "      <td>0x160a</td>\n",
       "      <td>CUS_0xd40</td>\n",
       "      <td>9</td>\n",
       "      <td>Aaron Maashoh</td>\n",
       "      <td>23.0</td>\n",
       "      <td>821-00-0265</td>\n",
       "      <td>Scientist</td>\n",
       "      <td>19114.12</td>\n",
       "      <td>1824.843333</td>\n",
       "      <td>3.0</td>\n",
       "      <td>...</td>\n",
       "      <td>19.0</td>\n",
       "      <td>Good</td>\n",
       "      <td>809.98</td>\n",
       "      <td>35.030402</td>\n",
       "      <td>273.0</td>\n",
       "      <td>No</td>\n",
       "      <td>49.574949</td>\n",
       "      <td>236.642682</td>\n",
       "      <td>Low_spent_Small_value_payments</td>\n",
       "      <td>186.266702</td>\n",
       "    </tr>\n",
       "    <tr>\n",
       "      <th>1</th>\n",
       "      <td>0x160b</td>\n",
       "      <td>CUS_0xd40</td>\n",
       "      <td>10</td>\n",
       "      <td>Aaron Maashoh</td>\n",
       "      <td>24.0</td>\n",
       "      <td>821-00-0265</td>\n",
       "      <td>Scientist</td>\n",
       "      <td>19114.12</td>\n",
       "      <td>1824.843333</td>\n",
       "      <td>3.0</td>\n",
       "      <td>...</td>\n",
       "      <td>4.0</td>\n",
       "      <td>Good</td>\n",
       "      <td>809.98</td>\n",
       "      <td>33.053114</td>\n",
       "      <td>274.0</td>\n",
       "      <td>No</td>\n",
       "      <td>49.574949</td>\n",
       "      <td>21.465380</td>\n",
       "      <td>High_spent_Medium_value_payments</td>\n",
       "      <td>361.444004</td>\n",
       "    </tr>\n",
       "    <tr>\n",
       "      <th>2</th>\n",
       "      <td>0x160c</td>\n",
       "      <td>CUS_0xd40</td>\n",
       "      <td>11</td>\n",
       "      <td>Aaron Maashoh</td>\n",
       "      <td>24.0</td>\n",
       "      <td>821-00-0265</td>\n",
       "      <td>Scientist</td>\n",
       "      <td>19114.12</td>\n",
       "      <td>1824.843333</td>\n",
       "      <td>3.0</td>\n",
       "      <td>...</td>\n",
       "      <td>4.0</td>\n",
       "      <td>Good</td>\n",
       "      <td>809.98</td>\n",
       "      <td>33.811894</td>\n",
       "      <td>274.0</td>\n",
       "      <td>No</td>\n",
       "      <td>49.574949</td>\n",
       "      <td>148.233938</td>\n",
       "      <td>Low_spent_Medium_value_payments</td>\n",
       "      <td>264.675446</td>\n",
       "    </tr>\n",
       "    <tr>\n",
       "      <th>3</th>\n",
       "      <td>0x160d</td>\n",
       "      <td>CUS_0xd40</td>\n",
       "      <td>12</td>\n",
       "      <td>Aaron Maashoh</td>\n",
       "      <td>24.0</td>\n",
       "      <td>821-00-0265</td>\n",
       "      <td>Scientist</td>\n",
       "      <td>19114.12</td>\n",
       "      <td>1824.843333</td>\n",
       "      <td>3.0</td>\n",
       "      <td>...</td>\n",
       "      <td>4.0</td>\n",
       "      <td>Good</td>\n",
       "      <td>809.98</td>\n",
       "      <td>32.430559</td>\n",
       "      <td>276.0</td>\n",
       "      <td>No</td>\n",
       "      <td>49.574949</td>\n",
       "      <td>39.082511</td>\n",
       "      <td>High_spent_Medium_value_payments</td>\n",
       "      <td>343.826873</td>\n",
       "    </tr>\n",
       "    <tr>\n",
       "      <th>4</th>\n",
       "      <td>0x1616</td>\n",
       "      <td>CUS_0x21b1</td>\n",
       "      <td>9</td>\n",
       "      <td>Rick Rothackerj</td>\n",
       "      <td>28.0</td>\n",
       "      <td>004-07-5839</td>\n",
       "      <td>Teacher</td>\n",
       "      <td>34847.84</td>\n",
       "      <td>3037.986667</td>\n",
       "      <td>2.0</td>\n",
       "      <td>...</td>\n",
       "      <td>5.0</td>\n",
       "      <td>Good</td>\n",
       "      <td>605.03</td>\n",
       "      <td>25.926822</td>\n",
       "      <td>327.0</td>\n",
       "      <td>No</td>\n",
       "      <td>18.816215</td>\n",
       "      <td>39.684018</td>\n",
       "      <td>High_spent_Large_value_payments</td>\n",
       "      <td>485.298434</td>\n",
       "    </tr>\n",
       "  </tbody>\n",
       "</table>\n",
       "<p>5 rows × 27 columns</p>\n",
       "</div>"
      ],
      "text/plain": [
       "       ID Customer_ID  Month             Name   Age          SSN Occupation  \\\n",
       "0  0x160a   CUS_0xd40      9    Aaron Maashoh  23.0  821-00-0265  Scientist   \n",
       "1  0x160b   CUS_0xd40     10    Aaron Maashoh  24.0  821-00-0265  Scientist   \n",
       "2  0x160c   CUS_0xd40     11    Aaron Maashoh  24.0  821-00-0265  Scientist   \n",
       "3  0x160d   CUS_0xd40     12    Aaron Maashoh  24.0  821-00-0265  Scientist   \n",
       "4  0x1616  CUS_0x21b1      9  Rick Rothackerj  28.0  004-07-5839    Teacher   \n",
       "\n",
       "   Annual_Income  Monthly_Inhand_Salary  Num_Bank_Accounts  ...  \\\n",
       "0       19114.12            1824.843333                3.0  ...   \n",
       "1       19114.12            1824.843333                3.0  ...   \n",
       "2       19114.12            1824.843333                3.0  ...   \n",
       "3       19114.12            1824.843333                3.0  ...   \n",
       "4       34847.84            3037.986667                2.0  ...   \n",
       "\n",
       "   Num_Credit_Inquiries  Credit_Mix  Outstanding_Debt  \\\n",
       "0                  19.0        Good            809.98   \n",
       "1                   4.0        Good            809.98   \n",
       "2                   4.0        Good            809.98   \n",
       "3                   4.0        Good            809.98   \n",
       "4                   5.0        Good            605.03   \n",
       "\n",
       "  Credit_Utilization_Ratio  Credit_History_Age  Payment_of_Min_Amount  \\\n",
       "0                35.030402               273.0                     No   \n",
       "1                33.053114               274.0                     No   \n",
       "2                33.811894               274.0                     No   \n",
       "3                32.430559               276.0                     No   \n",
       "4                25.926822               327.0                     No   \n",
       "\n",
       "   Total_EMI_per_month  Amount_invested_monthly  \\\n",
       "0            49.574949               236.642682   \n",
       "1            49.574949                21.465380   \n",
       "2            49.574949               148.233938   \n",
       "3            49.574949                39.082511   \n",
       "4            18.816215                39.684018   \n",
       "\n",
       "                  Payment_Behaviour  Monthly_Balance  \n",
       "0    Low_spent_Small_value_payments       186.266702  \n",
       "1  High_spent_Medium_value_payments       361.444004  \n",
       "2   Low_spent_Medium_value_payments       264.675446  \n",
       "3  High_spent_Medium_value_payments       343.826873  \n",
       "4   High_spent_Large_value_payments       485.298434  \n",
       "\n",
       "[5 rows x 27 columns]"
      ]
     },
     "execution_count": 2,
     "metadata": {},
     "output_type": "execute_result"
    }
   ],
   "source": [
    "df_clean = pd.read_csv('C:\\\\Users\\\\User\\\\Desktop\\\\팀플\\\\train_outlier_fill_1.csv', index_col = 0)\n",
    "df_clean2 = pd.read_csv('C:\\\\Users\\\\User\\\\Desktop\\\\팀플\\\\test_outlier_fill_1.csv', index_col = 0)\n",
    "df_clean.head()\n",
    "df_clean2.head()"
   ]
  },
  {
   "cell_type": "markdown",
   "metadata": {},
   "source": [
    "### 필요없는 컬럼 제거"
   ]
  },
  {
   "cell_type": "code",
   "execution_count": 3,
   "metadata": {},
   "outputs": [
    {
     "name": "stdout",
     "output_type": "stream",
     "text": [
      "Size of Dataset before dropping columns :  (75488, 28)\n",
      "Size of Dataset after dropping columns :  (75488, 23)\n"
     ]
    }
   ],
   "source": [
    "# Drop columns\n",
    "print(\"Size of Dataset before dropping columns : \",df_clean.shape)\n",
    "drop_columns = ['ID','Customer_ID','Name','SSN', 'Type_of_Loan']\n",
    "df_clean.drop(drop_columns,axis=1,inplace=True)\n",
    "print(\"Size of Dataset after dropping columns : \",df_clean.shape)"
   ]
  },
  {
   "cell_type": "code",
   "execution_count": 4,
   "metadata": {},
   "outputs": [
    {
     "name": "stdout",
     "output_type": "stream",
     "text": [
      "Size of Dataset before dropping columns :  (37943, 27)\n",
      "Size of Dataset after dropping columns :  (37943, 22)\n"
     ]
    }
   ],
   "source": [
    "# Drop columns\n",
    "print(\"Size of Dataset before dropping columns : \",df_clean2.shape)\n",
    "drop_columns = ['ID','Customer_ID','Name','SSN', 'Type_of_Loan']\n",
    "df_clean2.drop(drop_columns,axis=1,inplace=True)\n",
    "print(\"Size of Dataset after dropping columns : \",df_clean2.shape)"
   ]
  },
  {
   "cell_type": "markdown",
   "metadata": {},
   "source": [
    "### 라벨인코딩"
   ]
  },
  {
   "cell_type": "code",
   "execution_count": 5,
   "metadata": {},
   "outputs": [],
   "source": [
    "df_encode = df_clean.copy()\n",
    "df_encode2 = df_clean2.copy()"
   ]
  },
  {
   "cell_type": "code",
   "execution_count": 6,
   "metadata": {},
   "outputs": [],
   "source": [
    "# Label Encoding\n",
    "from sklearn.preprocessing import LabelEncoder\n",
    "\n",
    "categorical_columns = ['Occupation','Credit_Mix','Payment_of_Min_Amount','Payment_Behaviour','Credit_Score']\n",
    "# Initialize the LabelEncoder\n",
    "label_encoder = LabelEncoder()\n",
    "\n",
    "# Loop through each column and apply label encoding\n",
    "for column in categorical_columns:\n",
    "    df_encode[column] = label_encoder.fit_transform(df_clean[column])"
   ]
  },
  {
   "cell_type": "code",
   "execution_count": 7,
   "metadata": {},
   "outputs": [],
   "source": [
    "# Label Encoding\n",
    "from sklearn.preprocessing import LabelEncoder\n",
    "\n",
    "categorical_columns = ['Occupation','Credit_Mix','Payment_of_Min_Amount','Payment_Behaviour']\n",
    "# Initialize the LabelEncoder\n",
    "label_encoder = LabelEncoder()\n",
    "\n",
    "# Loop through each column and apply label encoding\n",
    "for column in categorical_columns:\n",
    "    df_encode2[column] = label_encoder.fit_transform(df_clean2[column])"
   ]
  },
  {
   "cell_type": "code",
   "execution_count": 8,
   "metadata": {},
   "outputs": [
    {
     "name": "stdout",
     "output_type": "stream",
     "text": [
      "Lawyer           5382\n",
      "Engineer         5161\n",
      "Architect        5145\n",
      "Scientist        5133\n",
      "Accountant       5116\n",
      "Mechanic         5105\n",
      "Teacher          5031\n",
      "Developer        5025\n",
      "Entrepreneur     5011\n",
      "Media_Manager    5009\n",
      "Journalist       4973\n",
      "Doctor           4954\n",
      "Manager          4878\n",
      "Musician         4789\n",
      "Writer           4776\n",
      "Name: Occupation, dtype: int64\n",
      "7     5382\n",
      "4     5161\n",
      "1     5145\n",
      "12    5133\n",
      "0     5116\n",
      "9     5105\n",
      "13    5031\n",
      "2     5025\n",
      "5     5011\n",
      "10    5009\n",
      "6     4973\n",
      "3     4954\n",
      "8     4878\n",
      "11    4789\n",
      "14    4776\n",
      "Name: Occupation, dtype: int64\n",
      "Lawyer           2683\n",
      "Architect        2616\n",
      "Engineer         2612\n",
      "Accountant       2592\n",
      "Mechanic         2558\n",
      "Developer        2547\n",
      "Scientist        2539\n",
      "Doctor           2537\n",
      "Teacher          2511\n",
      "Media_Manager    2511\n",
      "Entrepreneur     2501\n",
      "Journalist       2484\n",
      "Musician         2435\n",
      "Manager          2424\n",
      "Writer           2393\n",
      "Name: Occupation, dtype: int64\n",
      "7     2683\n",
      "1     2616\n",
      "4     2612\n",
      "0     2592\n",
      "9     2558\n",
      "2     2547\n",
      "12    2539\n",
      "3     2537\n",
      "13    2511\n",
      "10    2511\n",
      "5     2501\n",
      "6     2484\n",
      "11    2435\n",
      "8     2424\n",
      "14    2393\n",
      "Name: Occupation, dtype: int64\n"
     ]
    }
   ],
   "source": [
    "print(df_clean['Occupation'].value_counts())\n",
    "print(df_encode['Occupation'].value_counts())\n",
    "print(df_clean2['Occupation'].value_counts())\n",
    "print(df_encode2['Occupation'].value_counts())"
   ]
  },
  {
   "cell_type": "code",
   "execution_count": 9,
   "metadata": {},
   "outputs": [
    {
     "name": "stdout",
     "output_type": "stream",
     "text": [
      "Standard    34764\n",
      "Good        22636\n",
      "Bad         18088\n",
      "Name: Credit_Mix, dtype: int64\n",
      "2    34764\n",
      "1    22636\n",
      "0    18088\n",
      "Name: Credit_Mix, dtype: int64\n",
      "Standard    17470\n",
      "Good        11392\n",
      "Bad          9081\n",
      "Name: Credit_Mix, dtype: int64\n",
      "2    17470\n",
      "1    11392\n",
      "0     9081\n",
      "Name: Credit_Mix, dtype: int64\n"
     ]
    }
   ],
   "source": [
    "print(df_clean['Credit_Mix'].value_counts())\n",
    "print(df_encode['Credit_Mix'].value_counts())\n",
    "print(df_clean2['Credit_Mix'].value_counts())\n",
    "print(df_encode2['Credit_Mix'].value_counts())"
   ]
  },
  {
   "cell_type": "code",
   "execution_count": 10,
   "metadata": {},
   "outputs": [
    {
     "name": "stdout",
     "output_type": "stream",
     "text": [
      "Yes    39723\n",
      "No     35765\n",
      "Name: Payment_of_Min_Amount, dtype: int64\n",
      "1    39723\n",
      "0    35765\n",
      "Name: Payment_of_Min_Amount, dtype: int64\n",
      "Yes    19939\n",
      "No     18004\n",
      "Name: Payment_of_Min_Amount, dtype: int64\n",
      "1    19939\n",
      "0    18004\n",
      "Name: Payment_of_Min_Amount, dtype: int64\n"
     ]
    }
   ],
   "source": [
    "print(df_clean['Payment_of_Min_Amount'].value_counts())\n",
    "print(df_encode['Payment_of_Min_Amount'].value_counts())\n",
    "print(df_clean2['Payment_of_Min_Amount'].value_counts())\n",
    "print(df_encode2['Payment_of_Min_Amount'].value_counts())"
   ]
  },
  {
   "cell_type": "code",
   "execution_count": 11,
   "metadata": {},
   "outputs": [
    {
     "name": "stdout",
     "output_type": "stream",
     "text": [
      "Low_spent_Small_value_payments      20944\n",
      "High_spent_Medium_value_payments    14721\n",
      "High_spent_Large_value_payments     11528\n",
      "Low_spent_Medium_value_payments     11033\n",
      "High_spent_Small_value_payments      8970\n",
      "Low_spent_Large_value_payments       8292\n",
      "Name: Payment_Behaviour, dtype: int64\n",
      "5    20944\n",
      "1    14721\n",
      "0    11528\n",
      "4    11033\n",
      "2     8970\n",
      "3     8292\n",
      "Name: Payment_Behaviour, dtype: int64\n",
      "Low_spent_Small_value_payments      10184\n",
      "High_spent_Medium_value_payments     7543\n",
      "High_spent_Large_value_payments      5987\n",
      "Low_spent_Medium_value_payments      5366\n",
      "High_spent_Small_value_payments      4641\n",
      "Low_spent_Large_value_payments       4222\n",
      "Name: Payment_Behaviour, dtype: int64\n",
      "5    10184\n",
      "1     7543\n",
      "0     5987\n",
      "4     5366\n",
      "2     4641\n",
      "3     4222\n",
      "Name: Payment_Behaviour, dtype: int64\n"
     ]
    }
   ],
   "source": [
    "print(df_clean['Payment_Behaviour'].value_counts())\n",
    "print(df_encode['Payment_Behaviour'].value_counts())\n",
    "print(df_clean2['Payment_Behaviour'].value_counts())\n",
    "print(df_encode2['Payment_Behaviour'].value_counts())"
   ]
  },
  {
   "cell_type": "code",
   "execution_count": 13,
   "metadata": {},
   "outputs": [
    {
     "name": "stdout",
     "output_type": "stream",
     "text": [
      "Standard    40250\n",
      "Poor        21997\n",
      "Good        13241\n",
      "Name: Credit_Score, dtype: int64\n",
      "2    40250\n",
      "1    21997\n",
      "0    13241\n",
      "Name: Credit_Score, dtype: int64\n"
     ]
    }
   ],
   "source": [
    "print(df_clean['Credit_Score'].value_counts())\n",
    "print(df_encode['Credit_Score'].value_counts())"
   ]
  }
 ],
 "metadata": {
  "colab": {
   "collapsed_sections": [
    "-5qBRMrj_KQi",
    "2Mvg8Oa5elXI",
    "BZrQkU0o4Eqe",
    "9M_UTaeWXXGg",
    "fl9KlxqD1pON",
    "ty2DB7qj12yk",
    "7uJ7CnLv2STS",
    "PJq-9jzk2eMb",
    "sjGPTdAU3WRC",
    "pT4Aza-bbBhn",
    "bIPmD2F53f6U"
   ],
   "provenance": [],
   "toc_visible": true
  },
  "kernelspec": {
   "display_name": "Python 3 (ipykernel)",
   "language": "python",
   "name": "python3"
  },
  "language_info": {
   "codemirror_mode": {
    "name": "ipython",
    "version": 3
   },
   "file_extension": ".py",
   "mimetype": "text/x-python",
   "name": "python",
   "nbconvert_exporter": "python",
   "pygments_lexer": "ipython3",
   "version": "3.10.9"
  }
 },
 "nbformat": 4,
 "nbformat_minor": 1
}
