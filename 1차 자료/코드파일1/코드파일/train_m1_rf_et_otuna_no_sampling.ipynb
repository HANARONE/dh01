{
  "cells": [
    {
      "cell_type": "code",
      "execution_count": null,
      "metadata": {
        "id": "YcUan4spSnp_"
      },
      "outputs": [],
      "source": [
        "import numpy as np\n",
        "import pandas as pd\n",
        "import matplotlib.pyplot as plt\n",
        "import seaborn as sns\n",
        "import scipy.stats as stats\n",
        "import statistics"
      ]
    },
    {
      "cell_type": "code",
      "execution_count": null,
      "metadata": {
        "colab": {
          "base_uri": "https://localhost:8080/",
          "height": 473
        },
        "id": "N8ug0EKeUSY5",
        "outputId": "982ff0ea-4cd7-4140-d987-2f501b5b40e6"
      },
      "outputs": [
        {
          "output_type": "execute_result",
          "data": {
            "text/plain": [
              "       ID Customer_ID      Month             Name  Age          SSN  \\\n",
              "0  0x160a   CUS_0xd40  September    Aaron Maashoh   23  821-00-0265   \n",
              "1  0x160b   CUS_0xd40    October    Aaron Maashoh   24  821-00-0265   \n",
              "2  0x160c   CUS_0xd40   November    Aaron Maashoh   24  821-00-0265   \n",
              "3  0x160d   CUS_0xd40   December    Aaron Maashoh  24_  821-00-0265   \n",
              "4  0x1616  CUS_0x21b1  September  Rick Rothackerj   28  004-07-5839   \n",
              "\n",
              "  Occupation Annual_Income  Monthly_Inhand_Salary  Num_Bank_Accounts  ...  \\\n",
              "0  Scientist      19114.12            1824.843333                  3  ...   \n",
              "1  Scientist      19114.12            1824.843333                  3  ...   \n",
              "2  Scientist      19114.12            1824.843333                  3  ...   \n",
              "3  Scientist      19114.12                    NaN                  3  ...   \n",
              "4    _______      34847.84            3037.986667                  2  ...   \n",
              "\n",
              "   Num_Credit_Inquiries  Credit_Mix Outstanding_Debt Credit_Utilization_Ratio  \\\n",
              "0                2022.0        Good           809.98                35.030402   \n",
              "1                   4.0        Good           809.98                33.053114   \n",
              "2                   4.0        Good           809.98                33.811894   \n",
              "3                   4.0        Good           809.98                32.430559   \n",
              "4                   5.0        Good           605.03                25.926822   \n",
              "\n",
              "       Credit_History_Age Payment_of_Min_Amount Total_EMI_per_month  \\\n",
              "0   22 Years and 9 Months                    No           49.574949   \n",
              "1  22 Years and 10 Months                    No           49.574949   \n",
              "2                     NaN                    No           49.574949   \n",
              "3   23 Years and 0 Months                    No           49.574949   \n",
              "4   27 Years and 3 Months                    No           18.816215   \n",
              "\n",
              "   Amount_invested_monthly                 Payment_Behaviour  \\\n",
              "0       236.64268203272135    Low_spent_Small_value_payments   \n",
              "1       21.465380264657146  High_spent_Medium_value_payments   \n",
              "2       148.23393788500925   Low_spent_Medium_value_payments   \n",
              "3        39.08251089460281  High_spent_Medium_value_payments   \n",
              "4       39.684018417945296   High_spent_Large_value_payments   \n",
              "\n",
              "      Monthly_Balance  \n",
              "0  186.26670208571772  \n",
              "1  361.44400385378196  \n",
              "2  264.67544623342997  \n",
              "3  343.82687322383634  \n",
              "4   485.2984336755923  \n",
              "\n",
              "[5 rows x 27 columns]"
            ],
            "text/html": [
              "\n",
              "\n",
              "  <div id=\"df-ef0c45f5-b652-473a-b72f-84b88667661d\">\n",
              "    <div class=\"colab-df-container\">\n",
              "      <div>\n",
              "<style scoped>\n",
              "    .dataframe tbody tr th:only-of-type {\n",
              "        vertical-align: middle;\n",
              "    }\n",
              "\n",
              "    .dataframe tbody tr th {\n",
              "        vertical-align: top;\n",
              "    }\n",
              "\n",
              "    .dataframe thead th {\n",
              "        text-align: right;\n",
              "    }\n",
              "</style>\n",
              "<table border=\"1\" class=\"dataframe\">\n",
              "  <thead>\n",
              "    <tr style=\"text-align: right;\">\n",
              "      <th></th>\n",
              "      <th>ID</th>\n",
              "      <th>Customer_ID</th>\n",
              "      <th>Month</th>\n",
              "      <th>Name</th>\n",
              "      <th>Age</th>\n",
              "      <th>SSN</th>\n",
              "      <th>Occupation</th>\n",
              "      <th>Annual_Income</th>\n",
              "      <th>Monthly_Inhand_Salary</th>\n",
              "      <th>Num_Bank_Accounts</th>\n",
              "      <th>...</th>\n",
              "      <th>Num_Credit_Inquiries</th>\n",
              "      <th>Credit_Mix</th>\n",
              "      <th>Outstanding_Debt</th>\n",
              "      <th>Credit_Utilization_Ratio</th>\n",
              "      <th>Credit_History_Age</th>\n",
              "      <th>Payment_of_Min_Amount</th>\n",
              "      <th>Total_EMI_per_month</th>\n",
              "      <th>Amount_invested_monthly</th>\n",
              "      <th>Payment_Behaviour</th>\n",
              "      <th>Monthly_Balance</th>\n",
              "    </tr>\n",
              "  </thead>\n",
              "  <tbody>\n",
              "    <tr>\n",
              "      <th>0</th>\n",
              "      <td>0x160a</td>\n",
              "      <td>CUS_0xd40</td>\n",
              "      <td>September</td>\n",
              "      <td>Aaron Maashoh</td>\n",
              "      <td>23</td>\n",
              "      <td>821-00-0265</td>\n",
              "      <td>Scientist</td>\n",
              "      <td>19114.12</td>\n",
              "      <td>1824.843333</td>\n",
              "      <td>3</td>\n",
              "      <td>...</td>\n",
              "      <td>2022.0</td>\n",
              "      <td>Good</td>\n",
              "      <td>809.98</td>\n",
              "      <td>35.030402</td>\n",
              "      <td>22 Years and 9 Months</td>\n",
              "      <td>No</td>\n",
              "      <td>49.574949</td>\n",
              "      <td>236.64268203272135</td>\n",
              "      <td>Low_spent_Small_value_payments</td>\n",
              "      <td>186.26670208571772</td>\n",
              "    </tr>\n",
              "    <tr>\n",
              "      <th>1</th>\n",
              "      <td>0x160b</td>\n",
              "      <td>CUS_0xd40</td>\n",
              "      <td>October</td>\n",
              "      <td>Aaron Maashoh</td>\n",
              "      <td>24</td>\n",
              "      <td>821-00-0265</td>\n",
              "      <td>Scientist</td>\n",
              "      <td>19114.12</td>\n",
              "      <td>1824.843333</td>\n",
              "      <td>3</td>\n",
              "      <td>...</td>\n",
              "      <td>4.0</td>\n",
              "      <td>Good</td>\n",
              "      <td>809.98</td>\n",
              "      <td>33.053114</td>\n",
              "      <td>22 Years and 10 Months</td>\n",
              "      <td>No</td>\n",
              "      <td>49.574949</td>\n",
              "      <td>21.465380264657146</td>\n",
              "      <td>High_spent_Medium_value_payments</td>\n",
              "      <td>361.44400385378196</td>\n",
              "    </tr>\n",
              "    <tr>\n",
              "      <th>2</th>\n",
              "      <td>0x160c</td>\n",
              "      <td>CUS_0xd40</td>\n",
              "      <td>November</td>\n",
              "      <td>Aaron Maashoh</td>\n",
              "      <td>24</td>\n",
              "      <td>821-00-0265</td>\n",
              "      <td>Scientist</td>\n",
              "      <td>19114.12</td>\n",
              "      <td>1824.843333</td>\n",
              "      <td>3</td>\n",
              "      <td>...</td>\n",
              "      <td>4.0</td>\n",
              "      <td>Good</td>\n",
              "      <td>809.98</td>\n",
              "      <td>33.811894</td>\n",
              "      <td>NaN</td>\n",
              "      <td>No</td>\n",
              "      <td>49.574949</td>\n",
              "      <td>148.23393788500925</td>\n",
              "      <td>Low_spent_Medium_value_payments</td>\n",
              "      <td>264.67544623342997</td>\n",
              "    </tr>\n",
              "    <tr>\n",
              "      <th>3</th>\n",
              "      <td>0x160d</td>\n",
              "      <td>CUS_0xd40</td>\n",
              "      <td>December</td>\n",
              "      <td>Aaron Maashoh</td>\n",
              "      <td>24_</td>\n",
              "      <td>821-00-0265</td>\n",
              "      <td>Scientist</td>\n",
              "      <td>19114.12</td>\n",
              "      <td>NaN</td>\n",
              "      <td>3</td>\n",
              "      <td>...</td>\n",
              "      <td>4.0</td>\n",
              "      <td>Good</td>\n",
              "      <td>809.98</td>\n",
              "      <td>32.430559</td>\n",
              "      <td>23 Years and 0 Months</td>\n",
              "      <td>No</td>\n",
              "      <td>49.574949</td>\n",
              "      <td>39.08251089460281</td>\n",
              "      <td>High_spent_Medium_value_payments</td>\n",
              "      <td>343.82687322383634</td>\n",
              "    </tr>\n",
              "    <tr>\n",
              "      <th>4</th>\n",
              "      <td>0x1616</td>\n",
              "      <td>CUS_0x21b1</td>\n",
              "      <td>September</td>\n",
              "      <td>Rick Rothackerj</td>\n",
              "      <td>28</td>\n",
              "      <td>004-07-5839</td>\n",
              "      <td>_______</td>\n",
              "      <td>34847.84</td>\n",
              "      <td>3037.986667</td>\n",
              "      <td>2</td>\n",
              "      <td>...</td>\n",
              "      <td>5.0</td>\n",
              "      <td>Good</td>\n",
              "      <td>605.03</td>\n",
              "      <td>25.926822</td>\n",
              "      <td>27 Years and 3 Months</td>\n",
              "      <td>No</td>\n",
              "      <td>18.816215</td>\n",
              "      <td>39.684018417945296</td>\n",
              "      <td>High_spent_Large_value_payments</td>\n",
              "      <td>485.2984336755923</td>\n",
              "    </tr>\n",
              "  </tbody>\n",
              "</table>\n",
              "<p>5 rows × 27 columns</p>\n",
              "</div>\n",
              "      <button class=\"colab-df-convert\" onclick=\"convertToInteractive('df-ef0c45f5-b652-473a-b72f-84b88667661d')\"\n",
              "              title=\"Convert this dataframe to an interactive table.\"\n",
              "              style=\"display:none;\">\n",
              "\n",
              "  <svg xmlns=\"http://www.w3.org/2000/svg\" height=\"24px\"viewBox=\"0 0 24 24\"\n",
              "       width=\"24px\">\n",
              "    <path d=\"M0 0h24v24H0V0z\" fill=\"none\"/>\n",
              "    <path d=\"M18.56 5.44l.94 2.06.94-2.06 2.06-.94-2.06-.94-.94-2.06-.94 2.06-2.06.94zm-11 1L8.5 8.5l.94-2.06 2.06-.94-2.06-.94L8.5 2.5l-.94 2.06-2.06.94zm10 10l.94 2.06.94-2.06 2.06-.94-2.06-.94-.94-2.06-.94 2.06-2.06.94z\"/><path d=\"M17.41 7.96l-1.37-1.37c-.4-.4-.92-.59-1.43-.59-.52 0-1.04.2-1.43.59L10.3 9.45l-7.72 7.72c-.78.78-.78 2.05 0 2.83L4 21.41c.39.39.9.59 1.41.59.51 0 1.02-.2 1.41-.59l7.78-7.78 2.81-2.81c.8-.78.8-2.07 0-2.86zM5.41 20L4 18.59l7.72-7.72 1.47 1.35L5.41 20z\"/>\n",
              "  </svg>\n",
              "      </button>\n",
              "\n",
              "\n",
              "\n",
              "    <div id=\"df-273bf7d1-41f4-4360-a0c2-d333576c7dee\">\n",
              "      <button class=\"colab-df-quickchart\" onclick=\"quickchart('df-273bf7d1-41f4-4360-a0c2-d333576c7dee')\"\n",
              "              title=\"Suggest charts.\"\n",
              "              style=\"display:none;\">\n",
              "\n",
              "<svg xmlns=\"http://www.w3.org/2000/svg\" height=\"24px\"viewBox=\"0 0 24 24\"\n",
              "     width=\"24px\">\n",
              "    <g>\n",
              "        <path d=\"M19 3H5c-1.1 0-2 .9-2 2v14c0 1.1.9 2 2 2h14c1.1 0 2-.9 2-2V5c0-1.1-.9-2-2-2zM9 17H7v-7h2v7zm4 0h-2V7h2v10zm4 0h-2v-4h2v4z\"/>\n",
              "    </g>\n",
              "</svg>\n",
              "      </button>\n",
              "    </div>\n",
              "\n",
              "<style>\n",
              "  .colab-df-quickchart {\n",
              "    background-color: #E8F0FE;\n",
              "    border: none;\n",
              "    border-radius: 50%;\n",
              "    cursor: pointer;\n",
              "    display: none;\n",
              "    fill: #1967D2;\n",
              "    height: 32px;\n",
              "    padding: 0 0 0 0;\n",
              "    width: 32px;\n",
              "  }\n",
              "\n",
              "  .colab-df-quickchart:hover {\n",
              "    background-color: #E2EBFA;\n",
              "    box-shadow: 0px 1px 2px rgba(60, 64, 67, 0.3), 0px 1px 3px 1px rgba(60, 64, 67, 0.15);\n",
              "    fill: #174EA6;\n",
              "  }\n",
              "\n",
              "  [theme=dark] .colab-df-quickchart {\n",
              "    background-color: #3B4455;\n",
              "    fill: #D2E3FC;\n",
              "  }\n",
              "\n",
              "  [theme=dark] .colab-df-quickchart:hover {\n",
              "    background-color: #434B5C;\n",
              "    box-shadow: 0px 1px 3px 1px rgba(0, 0, 0, 0.15);\n",
              "    filter: drop-shadow(0px 1px 2px rgba(0, 0, 0, 0.3));\n",
              "    fill: #FFFFFF;\n",
              "  }\n",
              "</style>\n",
              "\n",
              "    <script>\n",
              "      async function quickchart(key) {\n",
              "        const containerElement = document.querySelector('#' + key);\n",
              "        const charts = await google.colab.kernel.invokeFunction(\n",
              "            'suggestCharts', [key], {});\n",
              "      }\n",
              "    </script>\n",
              "\n",
              "      <script>\n",
              "\n",
              "function displayQuickchartButton(domScope) {\n",
              "  let quickchartButtonEl =\n",
              "    domScope.querySelector('#df-273bf7d1-41f4-4360-a0c2-d333576c7dee button.colab-df-quickchart');\n",
              "  quickchartButtonEl.style.display =\n",
              "    google.colab.kernel.accessAllowed ? 'block' : 'none';\n",
              "}\n",
              "\n",
              "        displayQuickchartButton(document);\n",
              "      </script>\n",
              "      <style>\n",
              "    .colab-df-container {\n",
              "      display:flex;\n",
              "      flex-wrap:wrap;\n",
              "      gap: 12px;\n",
              "    }\n",
              "\n",
              "    .colab-df-convert {\n",
              "      background-color: #E8F0FE;\n",
              "      border: none;\n",
              "      border-radius: 50%;\n",
              "      cursor: pointer;\n",
              "      display: none;\n",
              "      fill: #1967D2;\n",
              "      height: 32px;\n",
              "      padding: 0 0 0 0;\n",
              "      width: 32px;\n",
              "    }\n",
              "\n",
              "    .colab-df-convert:hover {\n",
              "      background-color: #E2EBFA;\n",
              "      box-shadow: 0px 1px 2px rgba(60, 64, 67, 0.3), 0px 1px 3px 1px rgba(60, 64, 67, 0.15);\n",
              "      fill: #174EA6;\n",
              "    }\n",
              "\n",
              "    [theme=dark] .colab-df-convert {\n",
              "      background-color: #3B4455;\n",
              "      fill: #D2E3FC;\n",
              "    }\n",
              "\n",
              "    [theme=dark] .colab-df-convert:hover {\n",
              "      background-color: #434B5C;\n",
              "      box-shadow: 0px 1px 3px 1px rgba(0, 0, 0, 0.15);\n",
              "      filter: drop-shadow(0px 1px 2px rgba(0, 0, 0, 0.3));\n",
              "      fill: #FFFFFF;\n",
              "    }\n",
              "  </style>\n",
              "\n",
              "      <script>\n",
              "        const buttonEl =\n",
              "          document.querySelector('#df-ef0c45f5-b652-473a-b72f-84b88667661d button.colab-df-convert');\n",
              "        buttonEl.style.display =\n",
              "          google.colab.kernel.accessAllowed ? 'block' : 'none';\n",
              "\n",
              "        async function convertToInteractive(key) {\n",
              "          const element = document.querySelector('#df-ef0c45f5-b652-473a-b72f-84b88667661d');\n",
              "          const dataTable =\n",
              "            await google.colab.kernel.invokeFunction('convertToInteractive',\n",
              "                                                     [key], {});\n",
              "          if (!dataTable) return;\n",
              "\n",
              "          const docLinkHtml = 'Like what you see? Visit the ' +\n",
              "            '<a target=\"_blank\" href=https://colab.research.google.com/notebooks/data_table.ipynb>data table notebook</a>'\n",
              "            + ' to learn more about interactive tables.';\n",
              "          element.innerHTML = '';\n",
              "          dataTable['output_type'] = 'display_data';\n",
              "          await google.colab.output.renderOutput(dataTable, element);\n",
              "          const docLink = document.createElement('div');\n",
              "          docLink.innerHTML = docLinkHtml;\n",
              "          element.appendChild(docLink);\n",
              "        }\n",
              "      </script>\n",
              "    </div>\n",
              "  </div>\n"
            ]
          },
          "metadata": {},
          "execution_count": 25
        }
      ],
      "source": [
        "df_train = pd.read_csv('/content/drive/MyDrive/hana1/project1/data/train_outlier_drop2.csv', index_col = 0)\n",
        "df_test = pd.read_csv('/content/drive/MyDrive/hana1/project1/data/test.csv')\n",
        "df_train.head()\n",
        "df_test.head()"
      ]
    },
    {
      "cell_type": "code",
      "source": [
        "df_train.shape"
      ],
      "metadata": {
        "colab": {
          "base_uri": "https://localhost:8080/"
        },
        "id": "HL6Ka8kSNcmc",
        "outputId": "a0bd6b0d-6199-4b2a-90ba-106dad455120"
      },
      "execution_count": null,
      "outputs": [
        {
          "output_type": "execute_result",
          "data": {
            "text/plain": [
              "(50503, 23)"
            ]
          },
          "metadata": {},
          "execution_count": 3
        }
      ]
    },
    {
      "cell_type": "code",
      "execution_count": null,
      "metadata": {
        "colab": {
          "base_uri": "https://localhost:8080/",
          "height": 770
        },
        "id": "IIKM5EEwThBQ",
        "outputId": "c3f4fba0-990f-4486-988f-f1073178c502"
      },
      "outputs": [
        {
          "output_type": "execute_result",
          "data": {
            "text/plain": [
              "    Month   Age  Occupation  Annual_Income  Monthly_Inhand_Salary  \\\n",
              "3       4  23.0          12       19114.12            1824.843333   \n",
              "5       6  23.0          12       19114.12            1824.843333   \n",
              "6       7  23.0          12       19114.12            1824.843333   \n",
              "7       8  23.0          12       19114.12            1824.843333   \n",
              "8       1  28.0          13       34847.84            3037.986667   \n",
              "9       2  28.0          13       34847.84            3037.986667   \n",
              "11      4  28.0          13       34847.84            3037.986667   \n",
              "12      5  28.0          13       34847.84            3037.986667   \n",
              "13      6  28.0          13       34847.84            3037.986667   \n",
              "14      7  28.0          13       34847.84            3037.986667   \n",
              "15      8  28.0          13       34847.84            3037.986667   \n",
              "16      1  34.0           4      143162.64           12187.220000   \n",
              "17      2  34.0           4      143162.64           12187.220000   \n",
              "18      3  34.0           4      143162.64           12187.220000   \n",
              "20      5  34.0           4      143162.64           12187.220000   \n",
              "22      7  34.0           4      143162.64           12187.220000   \n",
              "23      8  34.0           4      143162.64           12187.220000   \n",
              "24      1  54.0           5       30689.89            2612.490833   \n",
              "25      2  54.0           5       30689.89            2612.490833   \n",
              "26      3  55.0           5       30689.89            2612.490833   \n",
              "\n",
              "    Num_Bank_Accounts  Num_Credit_Card  Interest_Rate  Num_of_Loan  \\\n",
              "3                 3.0              4.0            3.0          4.0   \n",
              "5                 3.0              4.0            3.0          4.0   \n",
              "6                 3.0              4.0            3.0          4.0   \n",
              "7                 3.0              4.0            3.0          4.0   \n",
              "8                 2.0              4.0            6.0          1.0   \n",
              "9                 2.0              4.0            6.0          1.0   \n",
              "11                2.0              4.0            6.0          1.0   \n",
              "12                2.0              4.0            6.0          1.0   \n",
              "13                2.0              4.0            6.0          1.0   \n",
              "14                2.0              4.0            6.0          1.0   \n",
              "15                2.0              4.0            6.0          1.0   \n",
              "16                1.0              5.0            8.0          3.0   \n",
              "17                1.0              5.0            8.0          3.0   \n",
              "18                1.0              5.0            8.0          3.0   \n",
              "20                1.0              5.0            8.0          3.0   \n",
              "22                1.0              5.0            8.0          3.0   \n",
              "23                1.0              5.0            8.0          3.0   \n",
              "24                2.0              5.0            4.0          1.0   \n",
              "25                2.0              5.0            4.0          1.0   \n",
              "26                2.0              5.0            4.0          1.0   \n",
              "\n",
              "    Delay_from_due_date  ...  Credit_Mix  Outstanding_Debt  \\\n",
              "3                   5.0  ...           1            809.98   \n",
              "5                   8.0  ...           1            809.98   \n",
              "6                   3.0  ...           1            809.98   \n",
              "7                   3.0  ...           1            809.98   \n",
              "8                   3.0  ...           1            605.03   \n",
              "9                   7.0  ...           1            605.03   \n",
              "11                  3.0  ...           1            605.03   \n",
              "12                  3.0  ...           1            605.03   \n",
              "13                  3.0  ...           1            605.03   \n",
              "14                  3.0  ...           1            605.03   \n",
              "15                  3.0  ...           1            605.03   \n",
              "16                  5.0  ...           1           1303.01   \n",
              "17                 13.0  ...           1           1303.01   \n",
              "18                  8.0  ...           1           1303.01   \n",
              "20                 10.0  ...           1           1303.01   \n",
              "22                  8.0  ...           1           1303.01   \n",
              "23                  8.0  ...           1           1303.01   \n",
              "24                  0.0  ...           1            632.46   \n",
              "25                  5.0  ...           1            632.46   \n",
              "26                  3.0  ...           1            632.46   \n",
              "\n",
              "    Credit_Utilization_Ratio  Credit_History_Age  Payment_of_Min_Amount  \\\n",
              "3                  31.377862               268.0                      0   \n",
              "5                  27.262259               270.0                      0   \n",
              "6                  22.537593               271.0                      0   \n",
              "7                  23.933795               270.0                      0   \n",
              "8                  24.464031               319.0                      0   \n",
              "9                  38.550848               320.0                      0   \n",
              "11                 39.182656               322.0                      0   \n",
              "12                 34.977895               323.0                      0   \n",
              "13                 33.381010               324.0                      0   \n",
              "14                 31.131702               325.0                      0   \n",
              "15                 32.933856               326.0                      0   \n",
              "16                 28.616735               213.0                      0   \n",
              "17                 41.702573               214.0                      0   \n",
              "18                 26.519815               215.0                      0   \n",
              "20                 31.376150               217.0                      0   \n",
              "22                 38.068624               219.0                      0   \n",
              "23                 38.374753               220.0                      0   \n",
              "24                 26.544229               207.0                      0   \n",
              "25                 35.279982               208.0                      0   \n",
              "26                 32.301163               209.0                      0   \n",
              "\n",
              "    Total_EMI_per_month  Amount_invested_monthly  Payment_Behaviour  \\\n",
              "3             49.574949               199.458074                  5   \n",
              "5             49.574949                62.430172                  1   \n",
              "6             49.574949               178.344067                  5   \n",
              "7             49.574949                24.785217                  1   \n",
              "8             18.816215               104.291825                  5   \n",
              "9             18.816215                40.391238                  0   \n",
              "11            18.816215                99.306228                  4   \n",
              "12            18.816215               130.115420                  5   \n",
              "13            18.816215                43.477190                  0   \n",
              "14            18.816215                70.101774                  1   \n",
              "15            18.816215               218.904344                  5   \n",
              "16           246.992319               168.413703                  2   \n",
              "17           246.992319               232.860384                  2   \n",
              "18           246.992319             10000.000000                  2   \n",
              "20           246.992319               430.947528                  3   \n",
              "22           246.992319               263.174163                  2   \n",
              "23           246.992319             10000.000000                  2   \n",
              "24            16.415452                81.228859                  3   \n",
              "25            16.415452               124.881820                  5   \n",
              "26            16.415452                83.406509                  1   \n",
              "\n",
              "    Monthly_Balance  Credit_Score  \n",
              "3        223.451310             0  \n",
              "5        340.479212             0  \n",
              "6        244.565317             0  \n",
              "7        358.124168             2  \n",
              "8        470.690627             2  \n",
              "9        484.591214             0  \n",
              "11       465.676224             0  \n",
              "12       444.867032             0  \n",
              "13       481.505262             0  \n",
              "14       464.880678             0  \n",
              "15       356.078109             0  \n",
              "16      1043.315978             0  \n",
              "17       998.869297             0  \n",
              "18       715.741367             0  \n",
              "20       810.782153             0  \n",
              "22       968.555517             2  \n",
              "23       895.494583             2  \n",
              "24       433.604773             2  \n",
              "25       409.951812             2  \n",
              "26       411.427123             2  \n",
              "\n",
              "[20 rows x 23 columns]"
            ],
            "text/html": [
              "\n",
              "\n",
              "  <div id=\"df-4ba286e9-5339-4b22-9291-9f009d873598\">\n",
              "    <div class=\"colab-df-container\">\n",
              "      <div>\n",
              "<style scoped>\n",
              "    .dataframe tbody tr th:only-of-type {\n",
              "        vertical-align: middle;\n",
              "    }\n",
              "\n",
              "    .dataframe tbody tr th {\n",
              "        vertical-align: top;\n",
              "    }\n",
              "\n",
              "    .dataframe thead th {\n",
              "        text-align: right;\n",
              "    }\n",
              "</style>\n",
              "<table border=\"1\" class=\"dataframe\">\n",
              "  <thead>\n",
              "    <tr style=\"text-align: right;\">\n",
              "      <th></th>\n",
              "      <th>Month</th>\n",
              "      <th>Age</th>\n",
              "      <th>Occupation</th>\n",
              "      <th>Annual_Income</th>\n",
              "      <th>Monthly_Inhand_Salary</th>\n",
              "      <th>Num_Bank_Accounts</th>\n",
              "      <th>Num_Credit_Card</th>\n",
              "      <th>Interest_Rate</th>\n",
              "      <th>Num_of_Loan</th>\n",
              "      <th>Delay_from_due_date</th>\n",
              "      <th>...</th>\n",
              "      <th>Credit_Mix</th>\n",
              "      <th>Outstanding_Debt</th>\n",
              "      <th>Credit_Utilization_Ratio</th>\n",
              "      <th>Credit_History_Age</th>\n",
              "      <th>Payment_of_Min_Amount</th>\n",
              "      <th>Total_EMI_per_month</th>\n",
              "      <th>Amount_invested_monthly</th>\n",
              "      <th>Payment_Behaviour</th>\n",
              "      <th>Monthly_Balance</th>\n",
              "      <th>Credit_Score</th>\n",
              "    </tr>\n",
              "  </thead>\n",
              "  <tbody>\n",
              "    <tr>\n",
              "      <th>3</th>\n",
              "      <td>4</td>\n",
              "      <td>23.0</td>\n",
              "      <td>12</td>\n",
              "      <td>19114.12</td>\n",
              "      <td>1824.843333</td>\n",
              "      <td>3.0</td>\n",
              "      <td>4.0</td>\n",
              "      <td>3.0</td>\n",
              "      <td>4.0</td>\n",
              "      <td>5.0</td>\n",
              "      <td>...</td>\n",
              "      <td>1</td>\n",
              "      <td>809.98</td>\n",
              "      <td>31.377862</td>\n",
              "      <td>268.0</td>\n",
              "      <td>0</td>\n",
              "      <td>49.574949</td>\n",
              "      <td>199.458074</td>\n",
              "      <td>5</td>\n",
              "      <td>223.451310</td>\n",
              "      <td>0</td>\n",
              "    </tr>\n",
              "    <tr>\n",
              "      <th>5</th>\n",
              "      <td>6</td>\n",
              "      <td>23.0</td>\n",
              "      <td>12</td>\n",
              "      <td>19114.12</td>\n",
              "      <td>1824.843333</td>\n",
              "      <td>3.0</td>\n",
              "      <td>4.0</td>\n",
              "      <td>3.0</td>\n",
              "      <td>4.0</td>\n",
              "      <td>8.0</td>\n",
              "      <td>...</td>\n",
              "      <td>1</td>\n",
              "      <td>809.98</td>\n",
              "      <td>27.262259</td>\n",
              "      <td>270.0</td>\n",
              "      <td>0</td>\n",
              "      <td>49.574949</td>\n",
              "      <td>62.430172</td>\n",
              "      <td>1</td>\n",
              "      <td>340.479212</td>\n",
              "      <td>0</td>\n",
              "    </tr>\n",
              "    <tr>\n",
              "      <th>6</th>\n",
              "      <td>7</td>\n",
              "      <td>23.0</td>\n",
              "      <td>12</td>\n",
              "      <td>19114.12</td>\n",
              "      <td>1824.843333</td>\n",
              "      <td>3.0</td>\n",
              "      <td>4.0</td>\n",
              "      <td>3.0</td>\n",
              "      <td>4.0</td>\n",
              "      <td>3.0</td>\n",
              "      <td>...</td>\n",
              "      <td>1</td>\n",
              "      <td>809.98</td>\n",
              "      <td>22.537593</td>\n",
              "      <td>271.0</td>\n",
              "      <td>0</td>\n",
              "      <td>49.574949</td>\n",
              "      <td>178.344067</td>\n",
              "      <td>5</td>\n",
              "      <td>244.565317</td>\n",
              "      <td>0</td>\n",
              "    </tr>\n",
              "    <tr>\n",
              "      <th>7</th>\n",
              "      <td>8</td>\n",
              "      <td>23.0</td>\n",
              "      <td>12</td>\n",
              "      <td>19114.12</td>\n",
              "      <td>1824.843333</td>\n",
              "      <td>3.0</td>\n",
              "      <td>4.0</td>\n",
              "      <td>3.0</td>\n",
              "      <td>4.0</td>\n",
              "      <td>3.0</td>\n",
              "      <td>...</td>\n",
              "      <td>1</td>\n",
              "      <td>809.98</td>\n",
              "      <td>23.933795</td>\n",
              "      <td>270.0</td>\n",
              "      <td>0</td>\n",
              "      <td>49.574949</td>\n",
              "      <td>24.785217</td>\n",
              "      <td>1</td>\n",
              "      <td>358.124168</td>\n",
              "      <td>2</td>\n",
              "    </tr>\n",
              "    <tr>\n",
              "      <th>8</th>\n",
              "      <td>1</td>\n",
              "      <td>28.0</td>\n",
              "      <td>13</td>\n",
              "      <td>34847.84</td>\n",
              "      <td>3037.986667</td>\n",
              "      <td>2.0</td>\n",
              "      <td>4.0</td>\n",
              "      <td>6.0</td>\n",
              "      <td>1.0</td>\n",
              "      <td>3.0</td>\n",
              "      <td>...</td>\n",
              "      <td>1</td>\n",
              "      <td>605.03</td>\n",
              "      <td>24.464031</td>\n",
              "      <td>319.0</td>\n",
              "      <td>0</td>\n",
              "      <td>18.816215</td>\n",
              "      <td>104.291825</td>\n",
              "      <td>5</td>\n",
              "      <td>470.690627</td>\n",
              "      <td>2</td>\n",
              "    </tr>\n",
              "    <tr>\n",
              "      <th>9</th>\n",
              "      <td>2</td>\n",
              "      <td>28.0</td>\n",
              "      <td>13</td>\n",
              "      <td>34847.84</td>\n",
              "      <td>3037.986667</td>\n",
              "      <td>2.0</td>\n",
              "      <td>4.0</td>\n",
              "      <td>6.0</td>\n",
              "      <td>1.0</td>\n",
              "      <td>7.0</td>\n",
              "      <td>...</td>\n",
              "      <td>1</td>\n",
              "      <td>605.03</td>\n",
              "      <td>38.550848</td>\n",
              "      <td>320.0</td>\n",
              "      <td>0</td>\n",
              "      <td>18.816215</td>\n",
              "      <td>40.391238</td>\n",
              "      <td>0</td>\n",
              "      <td>484.591214</td>\n",
              "      <td>0</td>\n",
              "    </tr>\n",
              "    <tr>\n",
              "      <th>11</th>\n",
              "      <td>4</td>\n",
              "      <td>28.0</td>\n",
              "      <td>13</td>\n",
              "      <td>34847.84</td>\n",
              "      <td>3037.986667</td>\n",
              "      <td>2.0</td>\n",
              "      <td>4.0</td>\n",
              "      <td>6.0</td>\n",
              "      <td>1.0</td>\n",
              "      <td>3.0</td>\n",
              "      <td>...</td>\n",
              "      <td>1</td>\n",
              "      <td>605.03</td>\n",
              "      <td>39.182656</td>\n",
              "      <td>322.0</td>\n",
              "      <td>0</td>\n",
              "      <td>18.816215</td>\n",
              "      <td>99.306228</td>\n",
              "      <td>4</td>\n",
              "      <td>465.676224</td>\n",
              "      <td>0</td>\n",
              "    </tr>\n",
              "    <tr>\n",
              "      <th>12</th>\n",
              "      <td>5</td>\n",
              "      <td>28.0</td>\n",
              "      <td>13</td>\n",
              "      <td>34847.84</td>\n",
              "      <td>3037.986667</td>\n",
              "      <td>2.0</td>\n",
              "      <td>4.0</td>\n",
              "      <td>6.0</td>\n",
              "      <td>1.0</td>\n",
              "      <td>3.0</td>\n",
              "      <td>...</td>\n",
              "      <td>1</td>\n",
              "      <td>605.03</td>\n",
              "      <td>34.977895</td>\n",
              "      <td>323.0</td>\n",
              "      <td>0</td>\n",
              "      <td>18.816215</td>\n",
              "      <td>130.115420</td>\n",
              "      <td>5</td>\n",
              "      <td>444.867032</td>\n",
              "      <td>0</td>\n",
              "    </tr>\n",
              "    <tr>\n",
              "      <th>13</th>\n",
              "      <td>6</td>\n",
              "      <td>28.0</td>\n",
              "      <td>13</td>\n",
              "      <td>34847.84</td>\n",
              "      <td>3037.986667</td>\n",
              "      <td>2.0</td>\n",
              "      <td>4.0</td>\n",
              "      <td>6.0</td>\n",
              "      <td>1.0</td>\n",
              "      <td>3.0</td>\n",
              "      <td>...</td>\n",
              "      <td>1</td>\n",
              "      <td>605.03</td>\n",
              "      <td>33.381010</td>\n",
              "      <td>324.0</td>\n",
              "      <td>0</td>\n",
              "      <td>18.816215</td>\n",
              "      <td>43.477190</td>\n",
              "      <td>0</td>\n",
              "      <td>481.505262</td>\n",
              "      <td>0</td>\n",
              "    </tr>\n",
              "    <tr>\n",
              "      <th>14</th>\n",
              "      <td>7</td>\n",
              "      <td>28.0</td>\n",
              "      <td>13</td>\n",
              "      <td>34847.84</td>\n",
              "      <td>3037.986667</td>\n",
              "      <td>2.0</td>\n",
              "      <td>4.0</td>\n",
              "      <td>6.0</td>\n",
              "      <td>1.0</td>\n",
              "      <td>3.0</td>\n",
              "      <td>...</td>\n",
              "      <td>1</td>\n",
              "      <td>605.03</td>\n",
              "      <td>31.131702</td>\n",
              "      <td>325.0</td>\n",
              "      <td>0</td>\n",
              "      <td>18.816215</td>\n",
              "      <td>70.101774</td>\n",
              "      <td>1</td>\n",
              "      <td>464.880678</td>\n",
              "      <td>0</td>\n",
              "    </tr>\n",
              "    <tr>\n",
              "      <th>15</th>\n",
              "      <td>8</td>\n",
              "      <td>28.0</td>\n",
              "      <td>13</td>\n",
              "      <td>34847.84</td>\n",
              "      <td>3037.986667</td>\n",
              "      <td>2.0</td>\n",
              "      <td>4.0</td>\n",
              "      <td>6.0</td>\n",
              "      <td>1.0</td>\n",
              "      <td>3.0</td>\n",
              "      <td>...</td>\n",
              "      <td>1</td>\n",
              "      <td>605.03</td>\n",
              "      <td>32.933856</td>\n",
              "      <td>326.0</td>\n",
              "      <td>0</td>\n",
              "      <td>18.816215</td>\n",
              "      <td>218.904344</td>\n",
              "      <td>5</td>\n",
              "      <td>356.078109</td>\n",
              "      <td>0</td>\n",
              "    </tr>\n",
              "    <tr>\n",
              "      <th>16</th>\n",
              "      <td>1</td>\n",
              "      <td>34.0</td>\n",
              "      <td>4</td>\n",
              "      <td>143162.64</td>\n",
              "      <td>12187.220000</td>\n",
              "      <td>1.0</td>\n",
              "      <td>5.0</td>\n",
              "      <td>8.0</td>\n",
              "      <td>3.0</td>\n",
              "      <td>5.0</td>\n",
              "      <td>...</td>\n",
              "      <td>1</td>\n",
              "      <td>1303.01</td>\n",
              "      <td>28.616735</td>\n",
              "      <td>213.0</td>\n",
              "      <td>0</td>\n",
              "      <td>246.992319</td>\n",
              "      <td>168.413703</td>\n",
              "      <td>2</td>\n",
              "      <td>1043.315978</td>\n",
              "      <td>0</td>\n",
              "    </tr>\n",
              "    <tr>\n",
              "      <th>17</th>\n",
              "      <td>2</td>\n",
              "      <td>34.0</td>\n",
              "      <td>4</td>\n",
              "      <td>143162.64</td>\n",
              "      <td>12187.220000</td>\n",
              "      <td>1.0</td>\n",
              "      <td>5.0</td>\n",
              "      <td>8.0</td>\n",
              "      <td>3.0</td>\n",
              "      <td>13.0</td>\n",
              "      <td>...</td>\n",
              "      <td>1</td>\n",
              "      <td>1303.01</td>\n",
              "      <td>41.702573</td>\n",
              "      <td>214.0</td>\n",
              "      <td>0</td>\n",
              "      <td>246.992319</td>\n",
              "      <td>232.860384</td>\n",
              "      <td>2</td>\n",
              "      <td>998.869297</td>\n",
              "      <td>0</td>\n",
              "    </tr>\n",
              "    <tr>\n",
              "      <th>18</th>\n",
              "      <td>3</td>\n",
              "      <td>34.0</td>\n",
              "      <td>4</td>\n",
              "      <td>143162.64</td>\n",
              "      <td>12187.220000</td>\n",
              "      <td>1.0</td>\n",
              "      <td>5.0</td>\n",
              "      <td>8.0</td>\n",
              "      <td>3.0</td>\n",
              "      <td>8.0</td>\n",
              "      <td>...</td>\n",
              "      <td>1</td>\n",
              "      <td>1303.01</td>\n",
              "      <td>26.519815</td>\n",
              "      <td>215.0</td>\n",
              "      <td>0</td>\n",
              "      <td>246.992319</td>\n",
              "      <td>10000.000000</td>\n",
              "      <td>2</td>\n",
              "      <td>715.741367</td>\n",
              "      <td>0</td>\n",
              "    </tr>\n",
              "    <tr>\n",
              "      <th>20</th>\n",
              "      <td>5</td>\n",
              "      <td>34.0</td>\n",
              "      <td>4</td>\n",
              "      <td>143162.64</td>\n",
              "      <td>12187.220000</td>\n",
              "      <td>1.0</td>\n",
              "      <td>5.0</td>\n",
              "      <td>8.0</td>\n",
              "      <td>3.0</td>\n",
              "      <td>10.0</td>\n",
              "      <td>...</td>\n",
              "      <td>1</td>\n",
              "      <td>1303.01</td>\n",
              "      <td>31.376150</td>\n",
              "      <td>217.0</td>\n",
              "      <td>0</td>\n",
              "      <td>246.992319</td>\n",
              "      <td>430.947528</td>\n",
              "      <td>3</td>\n",
              "      <td>810.782153</td>\n",
              "      <td>0</td>\n",
              "    </tr>\n",
              "    <tr>\n",
              "      <th>22</th>\n",
              "      <td>7</td>\n",
              "      <td>34.0</td>\n",
              "      <td>4</td>\n",
              "      <td>143162.64</td>\n",
              "      <td>12187.220000</td>\n",
              "      <td>1.0</td>\n",
              "      <td>5.0</td>\n",
              "      <td>8.0</td>\n",
              "      <td>3.0</td>\n",
              "      <td>8.0</td>\n",
              "      <td>...</td>\n",
              "      <td>1</td>\n",
              "      <td>1303.01</td>\n",
              "      <td>38.068624</td>\n",
              "      <td>219.0</td>\n",
              "      <td>0</td>\n",
              "      <td>246.992319</td>\n",
              "      <td>263.174163</td>\n",
              "      <td>2</td>\n",
              "      <td>968.555517</td>\n",
              "      <td>2</td>\n",
              "    </tr>\n",
              "    <tr>\n",
              "      <th>23</th>\n",
              "      <td>8</td>\n",
              "      <td>34.0</td>\n",
              "      <td>4</td>\n",
              "      <td>143162.64</td>\n",
              "      <td>12187.220000</td>\n",
              "      <td>1.0</td>\n",
              "      <td>5.0</td>\n",
              "      <td>8.0</td>\n",
              "      <td>3.0</td>\n",
              "      <td>8.0</td>\n",
              "      <td>...</td>\n",
              "      <td>1</td>\n",
              "      <td>1303.01</td>\n",
              "      <td>38.374753</td>\n",
              "      <td>220.0</td>\n",
              "      <td>0</td>\n",
              "      <td>246.992319</td>\n",
              "      <td>10000.000000</td>\n",
              "      <td>2</td>\n",
              "      <td>895.494583</td>\n",
              "      <td>2</td>\n",
              "    </tr>\n",
              "    <tr>\n",
              "      <th>24</th>\n",
              "      <td>1</td>\n",
              "      <td>54.0</td>\n",
              "      <td>5</td>\n",
              "      <td>30689.89</td>\n",
              "      <td>2612.490833</td>\n",
              "      <td>2.0</td>\n",
              "      <td>5.0</td>\n",
              "      <td>4.0</td>\n",
              "      <td>1.0</td>\n",
              "      <td>0.0</td>\n",
              "      <td>...</td>\n",
              "      <td>1</td>\n",
              "      <td>632.46</td>\n",
              "      <td>26.544229</td>\n",
              "      <td>207.0</td>\n",
              "      <td>0</td>\n",
              "      <td>16.415452</td>\n",
              "      <td>81.228859</td>\n",
              "      <td>3</td>\n",
              "      <td>433.604773</td>\n",
              "      <td>2</td>\n",
              "    </tr>\n",
              "    <tr>\n",
              "      <th>25</th>\n",
              "      <td>2</td>\n",
              "      <td>54.0</td>\n",
              "      <td>5</td>\n",
              "      <td>30689.89</td>\n",
              "      <td>2612.490833</td>\n",
              "      <td>2.0</td>\n",
              "      <td>5.0</td>\n",
              "      <td>4.0</td>\n",
              "      <td>1.0</td>\n",
              "      <td>5.0</td>\n",
              "      <td>...</td>\n",
              "      <td>1</td>\n",
              "      <td>632.46</td>\n",
              "      <td>35.279982</td>\n",
              "      <td>208.0</td>\n",
              "      <td>0</td>\n",
              "      <td>16.415452</td>\n",
              "      <td>124.881820</td>\n",
              "      <td>5</td>\n",
              "      <td>409.951812</td>\n",
              "      <td>2</td>\n",
              "    </tr>\n",
              "    <tr>\n",
              "      <th>26</th>\n",
              "      <td>3</td>\n",
              "      <td>55.0</td>\n",
              "      <td>5</td>\n",
              "      <td>30689.89</td>\n",
              "      <td>2612.490833</td>\n",
              "      <td>2.0</td>\n",
              "      <td>5.0</td>\n",
              "      <td>4.0</td>\n",
              "      <td>1.0</td>\n",
              "      <td>3.0</td>\n",
              "      <td>...</td>\n",
              "      <td>1</td>\n",
              "      <td>632.46</td>\n",
              "      <td>32.301163</td>\n",
              "      <td>209.0</td>\n",
              "      <td>0</td>\n",
              "      <td>16.415452</td>\n",
              "      <td>83.406509</td>\n",
              "      <td>1</td>\n",
              "      <td>411.427123</td>\n",
              "      <td>2</td>\n",
              "    </tr>\n",
              "  </tbody>\n",
              "</table>\n",
              "<p>20 rows × 23 columns</p>\n",
              "</div>\n",
              "      <button class=\"colab-df-convert\" onclick=\"convertToInteractive('df-4ba286e9-5339-4b22-9291-9f009d873598')\"\n",
              "              title=\"Convert this dataframe to an interactive table.\"\n",
              "              style=\"display:none;\">\n",
              "\n",
              "  <svg xmlns=\"http://www.w3.org/2000/svg\" height=\"24px\"viewBox=\"0 0 24 24\"\n",
              "       width=\"24px\">\n",
              "    <path d=\"M0 0h24v24H0V0z\" fill=\"none\"/>\n",
              "    <path d=\"M18.56 5.44l.94 2.06.94-2.06 2.06-.94-2.06-.94-.94-2.06-.94 2.06-2.06.94zm-11 1L8.5 8.5l.94-2.06 2.06-.94-2.06-.94L8.5 2.5l-.94 2.06-2.06.94zm10 10l.94 2.06.94-2.06 2.06-.94-2.06-.94-.94-2.06-.94 2.06-2.06.94z\"/><path d=\"M17.41 7.96l-1.37-1.37c-.4-.4-.92-.59-1.43-.59-.52 0-1.04.2-1.43.59L10.3 9.45l-7.72 7.72c-.78.78-.78 2.05 0 2.83L4 21.41c.39.39.9.59 1.41.59.51 0 1.02-.2 1.41-.59l7.78-7.78 2.81-2.81c.8-.78.8-2.07 0-2.86zM5.41 20L4 18.59l7.72-7.72 1.47 1.35L5.41 20z\"/>\n",
              "  </svg>\n",
              "      </button>\n",
              "\n",
              "\n",
              "\n",
              "    <div id=\"df-b15f97da-4e61-47c1-a4e4-3797a3125e85\">\n",
              "      <button class=\"colab-df-quickchart\" onclick=\"quickchart('df-b15f97da-4e61-47c1-a4e4-3797a3125e85')\"\n",
              "              title=\"Suggest charts.\"\n",
              "              style=\"display:none;\">\n",
              "\n",
              "<svg xmlns=\"http://www.w3.org/2000/svg\" height=\"24px\"viewBox=\"0 0 24 24\"\n",
              "     width=\"24px\">\n",
              "    <g>\n",
              "        <path d=\"M19 3H5c-1.1 0-2 .9-2 2v14c0 1.1.9 2 2 2h14c1.1 0 2-.9 2-2V5c0-1.1-.9-2-2-2zM9 17H7v-7h2v7zm4 0h-2V7h2v10zm4 0h-2v-4h2v4z\"/>\n",
              "    </g>\n",
              "</svg>\n",
              "      </button>\n",
              "    </div>\n",
              "\n",
              "<style>\n",
              "  .colab-df-quickchart {\n",
              "    background-color: #E8F0FE;\n",
              "    border: none;\n",
              "    border-radius: 50%;\n",
              "    cursor: pointer;\n",
              "    display: none;\n",
              "    fill: #1967D2;\n",
              "    height: 32px;\n",
              "    padding: 0 0 0 0;\n",
              "    width: 32px;\n",
              "  }\n",
              "\n",
              "  .colab-df-quickchart:hover {\n",
              "    background-color: #E2EBFA;\n",
              "    box-shadow: 0px 1px 2px rgba(60, 64, 67, 0.3), 0px 1px 3px 1px rgba(60, 64, 67, 0.15);\n",
              "    fill: #174EA6;\n",
              "  }\n",
              "\n",
              "  [theme=dark] .colab-df-quickchart {\n",
              "    background-color: #3B4455;\n",
              "    fill: #D2E3FC;\n",
              "  }\n",
              "\n",
              "  [theme=dark] .colab-df-quickchart:hover {\n",
              "    background-color: #434B5C;\n",
              "    box-shadow: 0px 1px 3px 1px rgba(0, 0, 0, 0.15);\n",
              "    filter: drop-shadow(0px 1px 2px rgba(0, 0, 0, 0.3));\n",
              "    fill: #FFFFFF;\n",
              "  }\n",
              "</style>\n",
              "\n",
              "    <script>\n",
              "      async function quickchart(key) {\n",
              "        const containerElement = document.querySelector('#' + key);\n",
              "        const charts = await google.colab.kernel.invokeFunction(\n",
              "            'suggestCharts', [key], {});\n",
              "      }\n",
              "    </script>\n",
              "\n",
              "      <script>\n",
              "\n",
              "function displayQuickchartButton(domScope) {\n",
              "  let quickchartButtonEl =\n",
              "    domScope.querySelector('#df-b15f97da-4e61-47c1-a4e4-3797a3125e85 button.colab-df-quickchart');\n",
              "  quickchartButtonEl.style.display =\n",
              "    google.colab.kernel.accessAllowed ? 'block' : 'none';\n",
              "}\n",
              "\n",
              "        displayQuickchartButton(document);\n",
              "      </script>\n",
              "      <style>\n",
              "    .colab-df-container {\n",
              "      display:flex;\n",
              "      flex-wrap:wrap;\n",
              "      gap: 12px;\n",
              "    }\n",
              "\n",
              "    .colab-df-convert {\n",
              "      background-color: #E8F0FE;\n",
              "      border: none;\n",
              "      border-radius: 50%;\n",
              "      cursor: pointer;\n",
              "      display: none;\n",
              "      fill: #1967D2;\n",
              "      height: 32px;\n",
              "      padding: 0 0 0 0;\n",
              "      width: 32px;\n",
              "    }\n",
              "\n",
              "    .colab-df-convert:hover {\n",
              "      background-color: #E2EBFA;\n",
              "      box-shadow: 0px 1px 2px rgba(60, 64, 67, 0.3), 0px 1px 3px 1px rgba(60, 64, 67, 0.15);\n",
              "      fill: #174EA6;\n",
              "    }\n",
              "\n",
              "    [theme=dark] .colab-df-convert {\n",
              "      background-color: #3B4455;\n",
              "      fill: #D2E3FC;\n",
              "    }\n",
              "\n",
              "    [theme=dark] .colab-df-convert:hover {\n",
              "      background-color: #434B5C;\n",
              "      box-shadow: 0px 1px 3px 1px rgba(0, 0, 0, 0.15);\n",
              "      filter: drop-shadow(0px 1px 2px rgba(0, 0, 0, 0.3));\n",
              "      fill: #FFFFFF;\n",
              "    }\n",
              "  </style>\n",
              "\n",
              "      <script>\n",
              "        const buttonEl =\n",
              "          document.querySelector('#df-4ba286e9-5339-4b22-9291-9f009d873598 button.colab-df-convert');\n",
              "        buttonEl.style.display =\n",
              "          google.colab.kernel.accessAllowed ? 'block' : 'none';\n",
              "\n",
              "        async function convertToInteractive(key) {\n",
              "          const element = document.querySelector('#df-4ba286e9-5339-4b22-9291-9f009d873598');\n",
              "          const dataTable =\n",
              "            await google.colab.kernel.invokeFunction('convertToInteractive',\n",
              "                                                     [key], {});\n",
              "          if (!dataTable) return;\n",
              "\n",
              "          const docLinkHtml = 'Like what you see? Visit the ' +\n",
              "            '<a target=\"_blank\" href=https://colab.research.google.com/notebooks/data_table.ipynb>data table notebook</a>'\n",
              "            + ' to learn more about interactive tables.';\n",
              "          element.innerHTML = '';\n",
              "          dataTable['output_type'] = 'display_data';\n",
              "          await google.colab.output.renderOutput(dataTable, element);\n",
              "          const docLink = document.createElement('div');\n",
              "          docLink.innerHTML = docLinkHtml;\n",
              "          element.appendChild(docLink);\n",
              "        }\n",
              "      </script>\n",
              "    </div>\n",
              "  </div>\n"
            ]
          },
          "metadata": {},
          "execution_count": 4
        }
      ],
      "source": [
        "df_train.head(20)"
      ]
    },
    {
      "cell_type": "markdown",
      "metadata": {
        "id": "_y9XwktH8yQc"
      },
      "source": [
        "## 데이터 할당"
      ]
    },
    {
      "cell_type": "code",
      "execution_count": null,
      "metadata": {
        "colab": {
          "base_uri": "https://localhost:8080/"
        },
        "id": "MsXilQsO8qv9",
        "outputId": "3b5e21fc-3e45-4166-fa2a-45f34bebc2be"
      },
      "outputs": [
        {
          "output_type": "stream",
          "name": "stdout",
          "text": [
            "(50503, 22)\n",
            "(50503,)\n"
          ]
        }
      ],
      "source": [
        "#Spli Input & Output Data\n",
        "X = df_train.drop('Credit_Score',axis=1)\n",
        "y = df_train['Credit_Score']\n",
        "print(X.shape)\n",
        "print(y.shape)"
      ]
    },
    {
      "cell_type": "markdown",
      "metadata": {
        "id": "h23kugVl84N1"
      },
      "source": [
        "# model building"
      ]
    },
    {
      "cell_type": "code",
      "execution_count": null,
      "metadata": {
        "id": "UmMWaP8-9Kwx"
      },
      "outputs": [],
      "source": [
        "from sklearn.model_selection import train_test_split\n",
        "from sklearn.ensemble import RandomForestClassifier\n",
        "from sklearn.model_selection import cross_val_score\n",
        "from sklearn.ensemble import ExtraTreesClassifier\n",
        "import xgboost as xgb\n",
        "from sklearn.metrics import accuracy_score, precision_score, recall_score,classification_report,confusion_matrix"
      ]
    },
    {
      "cell_type": "markdown",
      "metadata": {
        "id": "CrpmX_1lsnfi"
      },
      "source": [
        "# RF"
      ]
    },
    {
      "cell_type": "markdown",
      "metadata": {
        "id": "AqlE-Is6knPU"
      },
      "source": [
        "#### 데이터 분할"
      ]
    },
    {
      "cell_type": "code",
      "execution_count": null,
      "metadata": {
        "colab": {
          "base_uri": "https://localhost:8080/"
        },
        "id": "wu9i9m0fkICv",
        "outputId": "9aeea58c-cdf6-4364-d358-8a6c94787136"
      },
      "outputs": [
        {
          "output_type": "stream",
          "name": "stdout",
          "text": [
            "(40402, 22)\n",
            "(10101, 22)\n",
            "(40402,)\n",
            "(10101,)\n"
          ]
        }
      ],
      "source": [
        "# Split Data 8:2\n",
        "from sklearn.model_selection import train_test_split\n",
        "\n",
        "X_train, X_val, y_train, y_val = train_test_split(X, y, test_size=0.2, random_state=17,stratify=y)\n",
        "print(X_train.shape)\n",
        "print(X_val.shape)\n",
        "print(y_train.shape)\n",
        "print(y_val.shape)"
      ]
    },
    {
      "cell_type": "markdown",
      "metadata": {
        "id": "vjViPSTuJGkn"
      },
      "source": [
        "#### 모델 훈련 & 교차검증"
      ]
    },
    {
      "cell_type": "code",
      "execution_count": null,
      "metadata": {
        "colab": {
          "base_uri": "https://localhost:8080/"
        },
        "id": "aP558qeUJGkn",
        "outputId": "f34a72b4-78df-488b-ed58-ca0efe4c81b7"
      },
      "outputs": [
        {
          "output_type": "stream",
          "name": "stdout",
          "text": [
            "5-fold :  [0.79680733 0.78975374 0.80185644 0.80222772 0.79529703]\n"
          ]
        }
      ],
      "source": [
        "from sklearn.model_selection import cross_validate\n",
        "from sklearn.ensemble import RandomForestClassifier\n",
        "rf = RandomForestClassifier(n_jobs = -1, random_state=42)\n",
        "scores = cross_validate(rf, X_train, y_train, return_train_score=True,\n",
        "                        n_jobs = -1, cv = 5)\n",
        "print(\"5-fold : \", scores['test_score'])"
      ]
    },
    {
      "cell_type": "code",
      "execution_count": null,
      "metadata": {
        "colab": {
          "base_uri": "https://localhost:8080/"
        },
        "id": "luOeKqBZJGkn",
        "outputId": "100c1776-f485-4c92-87e6-6e03697b395d"
      },
      "outputs": [
        {
          "output_type": "stream",
          "name": "stdout",
          "text": [
            "1.0 0.7971884514586838\n"
          ]
        }
      ],
      "source": [
        "print(np.mean(scores['train_score']), np.mean(scores['test_score']))"
      ]
    },
    {
      "cell_type": "markdown",
      "metadata": {
        "id": "APYWn4sLJGko"
      },
      "source": [
        "#### 성능평가"
      ]
    },
    {
      "cell_type": "code",
      "execution_count": null,
      "metadata": {
        "colab": {
          "base_uri": "https://localhost:8080/",
          "height": 74
        },
        "id": "HjdjdU0Xw_DT",
        "outputId": "d8189f83-0d43-475d-cb20-84206cf4b6e1"
      },
      "outputs": [
        {
          "output_type": "execute_result",
          "data": {
            "text/plain": [
              "RandomForestClassifier(n_jobs=-1, random_state=42)"
            ],
            "text/html": [
              "<style>#sk-container-id-1 {color: black;background-color: white;}#sk-container-id-1 pre{padding: 0;}#sk-container-id-1 div.sk-toggleable {background-color: white;}#sk-container-id-1 label.sk-toggleable__label {cursor: pointer;display: block;width: 100%;margin-bottom: 0;padding: 0.3em;box-sizing: border-box;text-align: center;}#sk-container-id-1 label.sk-toggleable__label-arrow:before {content: \"▸\";float: left;margin-right: 0.25em;color: #696969;}#sk-container-id-1 label.sk-toggleable__label-arrow:hover:before {color: black;}#sk-container-id-1 div.sk-estimator:hover label.sk-toggleable__label-arrow:before {color: black;}#sk-container-id-1 div.sk-toggleable__content {max-height: 0;max-width: 0;overflow: hidden;text-align: left;background-color: #f0f8ff;}#sk-container-id-1 div.sk-toggleable__content pre {margin: 0.2em;color: black;border-radius: 0.25em;background-color: #f0f8ff;}#sk-container-id-1 input.sk-toggleable__control:checked~div.sk-toggleable__content {max-height: 200px;max-width: 100%;overflow: auto;}#sk-container-id-1 input.sk-toggleable__control:checked~label.sk-toggleable__label-arrow:before {content: \"▾\";}#sk-container-id-1 div.sk-estimator input.sk-toggleable__control:checked~label.sk-toggleable__label {background-color: #d4ebff;}#sk-container-id-1 div.sk-label input.sk-toggleable__control:checked~label.sk-toggleable__label {background-color: #d4ebff;}#sk-container-id-1 input.sk-hidden--visually {border: 0;clip: rect(1px 1px 1px 1px);clip: rect(1px, 1px, 1px, 1px);height: 1px;margin: -1px;overflow: hidden;padding: 0;position: absolute;width: 1px;}#sk-container-id-1 div.sk-estimator {font-family: monospace;background-color: #f0f8ff;border: 1px dotted black;border-radius: 0.25em;box-sizing: border-box;margin-bottom: 0.5em;}#sk-container-id-1 div.sk-estimator:hover {background-color: #d4ebff;}#sk-container-id-1 div.sk-parallel-item::after {content: \"\";width: 100%;border-bottom: 1px solid gray;flex-grow: 1;}#sk-container-id-1 div.sk-label:hover label.sk-toggleable__label {background-color: #d4ebff;}#sk-container-id-1 div.sk-serial::before {content: \"\";position: absolute;border-left: 1px solid gray;box-sizing: border-box;top: 0;bottom: 0;left: 50%;z-index: 0;}#sk-container-id-1 div.sk-serial {display: flex;flex-direction: column;align-items: center;background-color: white;padding-right: 0.2em;padding-left: 0.2em;position: relative;}#sk-container-id-1 div.sk-item {position: relative;z-index: 1;}#sk-container-id-1 div.sk-parallel {display: flex;align-items: stretch;justify-content: center;background-color: white;position: relative;}#sk-container-id-1 div.sk-item::before, #sk-container-id-1 div.sk-parallel-item::before {content: \"\";position: absolute;border-left: 1px solid gray;box-sizing: border-box;top: 0;bottom: 0;left: 50%;z-index: -1;}#sk-container-id-1 div.sk-parallel-item {display: flex;flex-direction: column;z-index: 1;position: relative;background-color: white;}#sk-container-id-1 div.sk-parallel-item:first-child::after {align-self: flex-end;width: 50%;}#sk-container-id-1 div.sk-parallel-item:last-child::after {align-self: flex-start;width: 50%;}#sk-container-id-1 div.sk-parallel-item:only-child::after {width: 0;}#sk-container-id-1 div.sk-dashed-wrapped {border: 1px dashed gray;margin: 0 0.4em 0.5em 0.4em;box-sizing: border-box;padding-bottom: 0.4em;background-color: white;}#sk-container-id-1 div.sk-label label {font-family: monospace;font-weight: bold;display: inline-block;line-height: 1.2em;}#sk-container-id-1 div.sk-label-container {text-align: center;}#sk-container-id-1 div.sk-container {/* jupyter's `normalize.less` sets `[hidden] { display: none; }` but bootstrap.min.css set `[hidden] { display: none !important; }` so we also need the `!important` here to be able to override the default hidden behavior on the sphinx rendered scikit-learn.org. See: https://github.com/scikit-learn/scikit-learn/issues/21755 */display: inline-block !important;position: relative;}#sk-container-id-1 div.sk-text-repr-fallback {display: none;}</style><div id=\"sk-container-id-1\" class=\"sk-top-container\"><div class=\"sk-text-repr-fallback\"><pre>RandomForestClassifier(n_jobs=-1, random_state=42)</pre><b>In a Jupyter environment, please rerun this cell to show the HTML representation or trust the notebook. <br />On GitHub, the HTML representation is unable to render, please try loading this page with nbviewer.org.</b></div><div class=\"sk-container\" hidden><div class=\"sk-item\"><div class=\"sk-estimator sk-toggleable\"><input class=\"sk-toggleable__control sk-hidden--visually\" id=\"sk-estimator-id-1\" type=\"checkbox\" checked><label for=\"sk-estimator-id-1\" class=\"sk-toggleable__label sk-toggleable__label-arrow\">RandomForestClassifier</label><div class=\"sk-toggleable__content\"><pre>RandomForestClassifier(n_jobs=-1, random_state=42)</pre></div></div></div></div></div>"
            ]
          },
          "metadata": {},
          "execution_count": 10
        }
      ],
      "source": [
        "rf.fit(X_train, y_train)"
      ]
    },
    {
      "cell_type": "code",
      "execution_count": null,
      "metadata": {
        "colab": {
          "base_uri": "https://localhost:8080/"
        },
        "id": "nWQyrIS7xBnS",
        "outputId": "3f85dbb3-52e2-47ee-c52a-c3ef3857e43f"
      },
      "outputs": [
        {
          "output_type": "stream",
          "name": "stdout",
          "text": [
            "[2 2 2 2 0]\n",
            "[2 2 2 2 0]\n",
            "[1 2 2 2 2]\n",
            "[1 2 2 2 2]\n"
          ]
        }
      ],
      "source": [
        "# best_model\n",
        "y_train_pred = rf.predict(X_train)\n",
        "y_val_pred = rf.predict(X_val)\n",
        "print(y_train_pred[:5])\n",
        "print(y_train.values[:5])\n",
        "print(y_val_pred[:5])\n",
        "print(y_val.values[:5])"
      ]
    },
    {
      "cell_type": "code",
      "execution_count": null,
      "metadata": {
        "colab": {
          "base_uri": "https://localhost:8080/"
        },
        "id": "gO7O_H_7xCHD",
        "outputId": "ba03c7ab-c987-4132-b550-36cae1a3bc72"
      },
      "outputs": [
        {
          "output_type": "stream",
          "name": "stdout",
          "text": [
            "              precision    recall  f1-score   support\n",
            "\n",
            "           0       1.00      1.00      1.00      7445\n",
            "           1       1.00      1.00      1.00     10597\n",
            "           2       1.00      1.00      1.00     22360\n",
            "\n",
            "    accuracy                           1.00     40402\n",
            "   macro avg       1.00      1.00      1.00     40402\n",
            "weighted avg       1.00      1.00      1.00     40402\n",
            "\n",
            "              precision    recall  f1-score   support\n",
            "\n",
            "           0       0.74      0.75      0.74      1861\n",
            "           1       0.79      0.79      0.79      2650\n",
            "           2       0.83      0.82      0.82      5590\n",
            "\n",
            "    accuracy                           0.80     10101\n",
            "   macro avg       0.78      0.79      0.79     10101\n",
            "weighted avg       0.80      0.80      0.80     10101\n",
            "\n"
          ]
        }
      ],
      "source": [
        "from sklearn.metrics import classification_report\n",
        "print(classification_report(y_train, y_train_pred))\n",
        "print(classification_report(y_val, y_val_pred))"
      ]
    },
    {
      "cell_type": "markdown",
      "metadata": {
        "id": "OntzXmzB1p-a"
      },
      "source": [
        "# Extra Tree"
      ]
    },
    {
      "cell_type": "markdown",
      "metadata": {
        "id": "OnDrFfY51p-b"
      },
      "source": [
        "#### 데이터 분할"
      ]
    },
    {
      "cell_type": "code",
      "execution_count": null,
      "metadata": {
        "colab": {
          "base_uri": "https://localhost:8080/"
        },
        "id": "saQzM6Lb1p-b",
        "outputId": "69e06b02-f63b-408e-bf44-b8b93d2fba8a"
      },
      "outputs": [
        {
          "output_type": "stream",
          "name": "stdout",
          "text": [
            "(40402, 22)\n",
            "(10101, 22)\n",
            "(40402,)\n",
            "(10101,)\n"
          ]
        }
      ],
      "source": [
        "# Split Data 8:2\n",
        "from sklearn.model_selection import train_test_split\n",
        "\n",
        "X_train, X_val, y_train, y_val = train_test_split(X, y, test_size=0.2, random_state=17,stratify=y)\n",
        "print(X_train.shape)\n",
        "print(X_val.shape)\n",
        "print(y_train.shape)\n",
        "print(y_val.shape)"
      ]
    },
    {
      "cell_type": "markdown",
      "metadata": {
        "id": "P8xOtj8m1p-b"
      },
      "source": [
        "#### 모델 훈련 & 교차검증"
      ]
    },
    {
      "cell_type": "code",
      "execution_count": null,
      "metadata": {
        "colab": {
          "base_uri": "https://localhost:8080/"
        },
        "id": "1l0Qf7261p-b",
        "outputId": "bc02f958-0de4-4318-856b-210a73d749c3"
      },
      "outputs": [
        {
          "output_type": "stream",
          "name": "stdout",
          "text": [
            "5-fold :  [0.80237594 0.79742606 0.8095297  0.80891089 0.80470297]\n"
          ]
        }
      ],
      "source": [
        "from sklearn.model_selection import cross_validate\n",
        "from sklearn.ensemble import ExtraTreesClassifier\n",
        "et = ExtraTreesClassifier(n_jobs = -1, random_state=42)\n",
        "scores = cross_validate(et, X_train, y_train, return_train_score=True,\n",
        "                        n_jobs = -1, cv = 5)\n",
        "print(\"5-fold : \", scores['test_score'])"
      ]
    },
    {
      "cell_type": "code",
      "execution_count": null,
      "metadata": {
        "colab": {
          "base_uri": "https://localhost:8080/"
        },
        "id": "7Lh8sWMi1p-b",
        "outputId": "c8872bd7-966e-4bc0-9eca-22eaeecb8d5a"
      },
      "outputs": [
        {
          "output_type": "stream",
          "name": "stdout",
          "text": [
            "1.0 0.804589113811765\n"
          ]
        }
      ],
      "source": [
        "print(np.mean(scores['train_score']), np.mean(scores['test_score']))"
      ]
    },
    {
      "cell_type": "markdown",
      "metadata": {
        "id": "7jo9IHa51p-b"
      },
      "source": [
        "#### 성능평가"
      ]
    },
    {
      "cell_type": "code",
      "execution_count": null,
      "metadata": {
        "colab": {
          "base_uri": "https://localhost:8080/",
          "height": 74
        },
        "id": "D_k0keHk1p-c",
        "outputId": "c8da5a81-3823-49de-95e1-18cbee9bdc77"
      },
      "outputs": [
        {
          "output_type": "execute_result",
          "data": {
            "text/plain": [
              "ExtraTreesClassifier(n_jobs=-1, random_state=42)"
            ],
            "text/html": [
              "<style>#sk-container-id-2 {color: black;background-color: white;}#sk-container-id-2 pre{padding: 0;}#sk-container-id-2 div.sk-toggleable {background-color: white;}#sk-container-id-2 label.sk-toggleable__label {cursor: pointer;display: block;width: 100%;margin-bottom: 0;padding: 0.3em;box-sizing: border-box;text-align: center;}#sk-container-id-2 label.sk-toggleable__label-arrow:before {content: \"▸\";float: left;margin-right: 0.25em;color: #696969;}#sk-container-id-2 label.sk-toggleable__label-arrow:hover:before {color: black;}#sk-container-id-2 div.sk-estimator:hover label.sk-toggleable__label-arrow:before {color: black;}#sk-container-id-2 div.sk-toggleable__content {max-height: 0;max-width: 0;overflow: hidden;text-align: left;background-color: #f0f8ff;}#sk-container-id-2 div.sk-toggleable__content pre {margin: 0.2em;color: black;border-radius: 0.25em;background-color: #f0f8ff;}#sk-container-id-2 input.sk-toggleable__control:checked~div.sk-toggleable__content {max-height: 200px;max-width: 100%;overflow: auto;}#sk-container-id-2 input.sk-toggleable__control:checked~label.sk-toggleable__label-arrow:before {content: \"▾\";}#sk-container-id-2 div.sk-estimator input.sk-toggleable__control:checked~label.sk-toggleable__label {background-color: #d4ebff;}#sk-container-id-2 div.sk-label input.sk-toggleable__control:checked~label.sk-toggleable__label {background-color: #d4ebff;}#sk-container-id-2 input.sk-hidden--visually {border: 0;clip: rect(1px 1px 1px 1px);clip: rect(1px, 1px, 1px, 1px);height: 1px;margin: -1px;overflow: hidden;padding: 0;position: absolute;width: 1px;}#sk-container-id-2 div.sk-estimator {font-family: monospace;background-color: #f0f8ff;border: 1px dotted black;border-radius: 0.25em;box-sizing: border-box;margin-bottom: 0.5em;}#sk-container-id-2 div.sk-estimator:hover {background-color: #d4ebff;}#sk-container-id-2 div.sk-parallel-item::after {content: \"\";width: 100%;border-bottom: 1px solid gray;flex-grow: 1;}#sk-container-id-2 div.sk-label:hover label.sk-toggleable__label {background-color: #d4ebff;}#sk-container-id-2 div.sk-serial::before {content: \"\";position: absolute;border-left: 1px solid gray;box-sizing: border-box;top: 0;bottom: 0;left: 50%;z-index: 0;}#sk-container-id-2 div.sk-serial {display: flex;flex-direction: column;align-items: center;background-color: white;padding-right: 0.2em;padding-left: 0.2em;position: relative;}#sk-container-id-2 div.sk-item {position: relative;z-index: 1;}#sk-container-id-2 div.sk-parallel {display: flex;align-items: stretch;justify-content: center;background-color: white;position: relative;}#sk-container-id-2 div.sk-item::before, #sk-container-id-2 div.sk-parallel-item::before {content: \"\";position: absolute;border-left: 1px solid gray;box-sizing: border-box;top: 0;bottom: 0;left: 50%;z-index: -1;}#sk-container-id-2 div.sk-parallel-item {display: flex;flex-direction: column;z-index: 1;position: relative;background-color: white;}#sk-container-id-2 div.sk-parallel-item:first-child::after {align-self: flex-end;width: 50%;}#sk-container-id-2 div.sk-parallel-item:last-child::after {align-self: flex-start;width: 50%;}#sk-container-id-2 div.sk-parallel-item:only-child::after {width: 0;}#sk-container-id-2 div.sk-dashed-wrapped {border: 1px dashed gray;margin: 0 0.4em 0.5em 0.4em;box-sizing: border-box;padding-bottom: 0.4em;background-color: white;}#sk-container-id-2 div.sk-label label {font-family: monospace;font-weight: bold;display: inline-block;line-height: 1.2em;}#sk-container-id-2 div.sk-label-container {text-align: center;}#sk-container-id-2 div.sk-container {/* jupyter's `normalize.less` sets `[hidden] { display: none; }` but bootstrap.min.css set `[hidden] { display: none !important; }` so we also need the `!important` here to be able to override the default hidden behavior on the sphinx rendered scikit-learn.org. See: https://github.com/scikit-learn/scikit-learn/issues/21755 */display: inline-block !important;position: relative;}#sk-container-id-2 div.sk-text-repr-fallback {display: none;}</style><div id=\"sk-container-id-2\" class=\"sk-top-container\"><div class=\"sk-text-repr-fallback\"><pre>ExtraTreesClassifier(n_jobs=-1, random_state=42)</pre><b>In a Jupyter environment, please rerun this cell to show the HTML representation or trust the notebook. <br />On GitHub, the HTML representation is unable to render, please try loading this page with nbviewer.org.</b></div><div class=\"sk-container\" hidden><div class=\"sk-item\"><div class=\"sk-estimator sk-toggleable\"><input class=\"sk-toggleable__control sk-hidden--visually\" id=\"sk-estimator-id-2\" type=\"checkbox\" checked><label for=\"sk-estimator-id-2\" class=\"sk-toggleable__label sk-toggleable__label-arrow\">ExtraTreesClassifier</label><div class=\"sk-toggleable__content\"><pre>ExtraTreesClassifier(n_jobs=-1, random_state=42)</pre></div></div></div></div></div>"
            ]
          },
          "metadata": {},
          "execution_count": 31
        }
      ],
      "source": [
        "et.fit(X_train, y_train)"
      ]
    },
    {
      "cell_type": "code",
      "execution_count": null,
      "metadata": {
        "colab": {
          "base_uri": "https://localhost:8080/"
        },
        "id": "QCpQyvwQ1p-c",
        "outputId": "e5e923fa-d1ad-4d50-8a4a-199e59bc7962"
      },
      "outputs": [
        {
          "output_type": "stream",
          "name": "stdout",
          "text": [
            "[2 2 2 2 0]\n",
            "[2 2 2 2 0]\n",
            "[1 2 2 2 2]\n",
            "[1 2 2 2 2]\n"
          ]
        }
      ],
      "source": [
        "y_train_pred = et.predict(X_train)\n",
        "y_val_pred = et.predict(X_val)\n",
        "print(y_train_pred[:5])\n",
        "print(y_train.values[:5])\n",
        "print(y_val_pred[:5])\n",
        "print(y_val.values[:5])"
      ]
    },
    {
      "cell_type": "code",
      "execution_count": null,
      "metadata": {
        "colab": {
          "base_uri": "https://localhost:8080/"
        },
        "id": "kYd16pVG1p-c",
        "outputId": "8a8bbede-cde5-440d-b6b6-8757fb62696c"
      },
      "outputs": [
        {
          "output_type": "stream",
          "name": "stdout",
          "text": [
            "              precision    recall  f1-score   support\n",
            "\n",
            "           0       1.00      1.00      1.00      7445\n",
            "           1       1.00      1.00      1.00     10597\n",
            "           2       1.00      1.00      1.00     22360\n",
            "\n",
            "    accuracy                           1.00     40402\n",
            "   macro avg       1.00      1.00      1.00     40402\n",
            "weighted avg       1.00      1.00      1.00     40402\n",
            "\n",
            "              precision    recall  f1-score   support\n",
            "\n",
            "           0       0.77      0.75      0.76      1861\n",
            "           1       0.80      0.80      0.80      2650\n",
            "           2       0.83      0.84      0.83      5590\n",
            "\n",
            "    accuracy                           0.81     10101\n",
            "   macro avg       0.80      0.79      0.80     10101\n",
            "weighted avg       0.81      0.81      0.81     10101\n",
            "\n"
          ]
        }
      ],
      "source": [
        "from sklearn.metrics import classification_report\n",
        "print(classification_report(y_train, y_train_pred))\n",
        "print(classification_report(y_val, y_val_pred))"
      ]
    },
    {
      "cell_type": "markdown",
      "source": [
        "### 베스트 모델 변수중요도 확인"
      ],
      "metadata": {
        "id": "46EooZaspGek"
      }
    },
    {
      "cell_type": "code",
      "source": [
        "# 변수 중요도\n",
        "f_imp_v = et.feature_importances_\n",
        "f_imp_v = pd.Series(f_imp_v, index = X.columns)\n",
        "f_imp_v.sort_values(ascending=False)\n",
        "\n",
        "# 시각화\n",
        "f_top = f_imp_v.sort_values(ascending=False)\n",
        "plt.figure(figsize = (10, 10))\n",
        "sns.barplot(x = f_top, y = f_top.index)\n",
        "plt.title('Top feature importance')"
      ],
      "metadata": {
        "id": "r2zkOHr7pGJ9",
        "colab": {
          "base_uri": "https://localhost:8080/",
          "height": 867
        },
        "outputId": "6874f699-79b5-4c8c-ee41-809106f0f6ea"
      },
      "execution_count": null,
      "outputs": [
        {
          "output_type": "execute_result",
          "data": {
            "text/plain": [
              "Text(0.5, 1.0, 'Top feature importance')"
            ]
          },
          "metadata": {},
          "execution_count": 34
        },
        {
          "output_type": "display_data",
          "data": {
            "text/plain": [
              "<Figure size 1000x1000 with 1 Axes>"
            ],
            "image/png": "[encoded data removed]"
          },
          "metadata": {}
        }
      ]
    },
    {
      "cell_type": "markdown",
      "source": [
        "# optuna"
      ],
      "metadata": {
        "id": "UkOF3tysxypr"
      }
    },
    {
      "cell_type": "code",
      "source": [
        "!pip install optuna"
      ],
      "metadata": {
        "colab": {
          "base_uri": "https://localhost:8080/"
        },
        "id": "iIQZTTXQ0e4w",
        "outputId": "9f2ef0f4-295d-4293-9666-322d91a5698a"
      },
      "execution_count": null,
      "outputs": [
        {
          "output_type": "stream",
          "name": "stdout",
          "text": [
            "Requirement already satisfied: optuna in /usr/local/lib/python3.10/dist-packages (3.2.0)\n",
            "Requirement already satisfied: alembic>=1.5.0 in /usr/local/lib/python3.10/dist-packages (from optuna) (1.11.1)\n",
            "Requirement already satisfied: cmaes>=0.9.1 in /usr/local/lib/python3.10/dist-packages (from optuna) (0.10.0)\n",
            "Requirement already satisfied: colorlog in /usr/local/lib/python3.10/dist-packages (from optuna) (6.7.0)\n",
            "Requirement already satisfied: numpy in /usr/local/lib/python3.10/dist-packages (from optuna) (1.22.4)\n",
            "Requirement already satisfied: packaging>=20.0 in /usr/local/lib/python3.10/dist-packages (from optuna) (23.1)\n",
            "Requirement already satisfied: sqlalchemy>=1.3.0 in /usr/local/lib/python3.10/dist-packages (from optuna) (2.0.19)\n",
            "Requirement already satisfied: tqdm in /usr/local/lib/python3.10/dist-packages (from optuna) (4.65.0)\n",
            "Requirement already satisfied: PyYAML in /usr/local/lib/python3.10/dist-packages (from optuna) (6.0.1)\n",
            "Requirement already satisfied: Mako in /usr/local/lib/python3.10/dist-packages (from alembic>=1.5.0->optuna) (1.2.4)\n",
            "Requirement already satisfied: typing-extensions>=4 in /usr/local/lib/python3.10/dist-packages (from alembic>=1.5.0->optuna) (4.7.1)\n",
            "Requirement already satisfied: greenlet!=0.4.17 in /usr/local/lib/python3.10/dist-packages (from sqlalchemy>=1.3.0->optuna) (2.0.2)\n",
            "Requirement already satisfied: MarkupSafe>=0.9.2 in /usr/local/lib/python3.10/dist-packages (from Mako->alembic>=1.5.0->optuna) (2.1.3)\n"
          ]
        }
      ]
    },
    {
      "cell_type": "code",
      "source": [
        "import pandas as pd\n",
        "import numpy as np\n",
        "import seaborn as sns\n",
        "import matplotlib.pyplot as plt\n",
        "plt.style.use(\"bmh\")\n",
        "\n",
        "# model\n",
        "from sklearn.ensemble import ExtraTreesClassifier\n",
        "import optuna\n",
        "\n",
        "# misc\n",
        "from sklearn.model_selection import cross_val_score\n",
        "from sklearn.model_selection import train_test_split\n",
        "from sklearn.metrics import confusion_matrix\n",
        "from sklearn import metrics"
      ],
      "metadata": {
        "id": "nUr5iSpyxzvF"
      },
      "execution_count": null,
      "outputs": []
    },
    {
      "cell_type": "code",
      "source": [
        "{'bootstrap': False, 'ccp_alpha': 0.0, 'class_weight': None, 'criterion': 'gini', 'max_depth': None, 'max_features': 'sqrt', 'max_leaf_nodes': None, 'max_samples': None, 'min_impurity_decrease': 0.0, 'min_samples_leaf': 1, 'min_samples_split': 2, 'min_weight_fraction_leaf': 0.0, 'n_estimators': 200, 'n_jobs': -1, 'oob_score': False, 'random_state': 42, 'verbose': 0, 'warm_start': False}"
      ],
      "metadata": {
        "id": "0fCDMVwk8WXM",
        "colab": {
          "base_uri": "https://localhost:8080/"
        },
        "outputId": "b5a7081e-09f7-4556-99b9-3608690aca34"
      },
      "execution_count": null,
      "outputs": [
        {
          "output_type": "execute_result",
          "data": {
            "text/plain": [
              "{'bootstrap': False,\n",
              " 'ccp_alpha': 0.0,\n",
              " 'class_weight': None,\n",
              " 'criterion': 'gini',\n",
              " 'max_depth': None,\n",
              " 'max_features': 'sqrt',\n",
              " 'max_leaf_nodes': None,\n",
              " 'max_samples': None,\n",
              " 'min_impurity_decrease': 0.0,\n",
              " 'min_samples_leaf': 1,\n",
              " 'min_samples_split': 2,\n",
              " 'min_weight_fraction_leaf': 0.0,\n",
              " 'n_estimators': 200,\n",
              " 'n_jobs': -1,\n",
              " 'oob_score': False,\n",
              " 'random_state': 42,\n",
              " 'verbose': 0,\n",
              " 'warm_start': False}"
            ]
          },
          "metadata": {},
          "execution_count": 37
        }
      ]
    },
    {
      "cell_type": "code",
      "source": [
        "def et(X_train, y_train,\n",
        "        X_val, y_val):\n",
        "\n",
        "  # instantiate model\n",
        "  et = ExtraTreesClassifier(n_jobs = -1, random_state=42)\n",
        "\n",
        "  et.fit(X_train, y_train) # train on train data\n",
        "  et_score = round(et.score(X_val, y_val), 5) # validate on validation data\n",
        "\n",
        "  print('ExtraTreesClassifier score: ', et_score)\n",
        "\n",
        "  return et_score"
      ],
      "metadata": {
        "id": "6o_q6P_WzBHv"
      },
      "execution_count": null,
      "outputs": []
    },
    {
      "cell_type": "code",
      "source": [
        "et_score = et(X_train, y_train, X_val, y_val)"
      ],
      "metadata": {
        "colab": {
          "base_uri": "https://localhost:8080/"
        },
        "id": "0chfHAgDzIAo",
        "outputId": "8b190d62-d67d-41b7-d57c-bc2e9a3849fd"
      },
      "execution_count": null,
      "outputs": [
        {
          "output_type": "stream",
          "name": "stdout",
          "text": [
            "ExtraTreesClassifier score:  0.80942\n"
          ]
        }
      ]
    },
    {
      "cell_type": "code",
      "source": [
        "def objective(trial):\n",
        "\n",
        "    ### define params grid to search maximum accuracy\n",
        "    n_estimators = trial.suggest_int('n_estimators', 50, 120)\n",
        "    max_depth = trial.suggest_int('max_depth',100,1000)  # 확인 후 올리기\n",
        "    max_leaf_nodes = trial.suggest_int('max_leaf_nodes', 2, 15000)\n",
        "    criterion = trial.suggest_categorical('criterion', ['gini', 'entropy'])\n",
        "\n",
        "    ### modeling with suggested params\n",
        "    model = ExtraTreesClassifier(n_estimators = n_estimators,\n",
        "                                 max_depth = max_depth,\n",
        "                                 max_leaf_nodes = max_leaf_nodes,\n",
        "                                 criterion = criterion,\n",
        "                                 random_state = 0) # do not tune the seed\n",
        "\n",
        "    ### cross validation score\n",
        "    # score = cross_val_score(model, X_train, y_train, n_jobs=-1, cv=3)\n",
        "    # etr_score = score.mean()\n",
        "    ### fit\n",
        "    model.fit(X_train, y_train) # train on train data\n",
        "    accuracy = round(model.score(X_val, y_val), 5) # validate on validation data\n",
        "\n",
        "    return accuracy\n",
        "\n",
        "study = optuna.create_study(direction='maximize') # maximize accuracy\n",
        "study.optimize(objective, n_trials=30)"
      ],
      "metadata": {
        "colab": {
          "base_uri": "https://localhost:8080/"
        },
        "id": "vD7SVTB_zTpc",
        "outputId": "ddd8a6ad-dc5d-488c-c91c-cd7cb9c34b48"
      },
      "execution_count": null,
      "outputs": [
        {
          "output_type": "stream",
          "name": "stderr",
          "text": [
            "[I 2023-08-04 09:06:56,363] A new study created in memory with name: no-name-403cb897-ff7a-4ee1-bf2d-56f218dc54c1\n",
            "[I 2023-08-04 09:07:01,319] Trial 0 finished with value: 0.80705 and parameters: {'n_estimators': 87, 'max_depth': 188, 'max_leaf_nodes': 7920, 'criterion': 'gini'}. Best is trial 0 with value: 0.80705.\n",
            "[I 2023-08-04 09:07:04,813] Trial 1 finished with value: 0.79547 and parameters: {'n_estimators': 53, 'max_depth': 431, 'max_leaf_nodes': 4331, 'criterion': 'gini'}. Best is trial 0 with value: 0.80705.\n",
            "[I 2023-08-04 09:07:09,119] Trial 2 finished with value: 0.80606 and parameters: {'n_estimators': 67, 'max_depth': 404, 'max_leaf_nodes': 9866, 'criterion': 'entropy'}. Best is trial 0 with value: 0.80705.\n",
            "[I 2023-08-04 09:07:11,503] Trial 3 finished with value: 0.71102 and parameters: {'n_estimators': 104, 'max_depth': 516, 'max_leaf_nodes': 245, 'criterion': 'gini'}. Best is trial 0 with value: 0.80705.\n",
            "[I 2023-08-04 09:07:18,440] Trial 4 finished with value: 0.80794 and parameters: {'n_estimators': 92, 'max_depth': 995, 'max_leaf_nodes': 9532, 'criterion': 'entropy'}. Best is trial 4 with value: 0.80794.\n",
            "[I 2023-08-04 09:07:21,234] Trial 5 finished with value: 0.73379 and parameters: {'n_estimators': 87, 'max_depth': 647, 'max_leaf_nodes': 677, 'criterion': 'gini'}. Best is trial 4 with value: 0.80794.\n",
            "[I 2023-08-04 09:07:23,016] Trial 6 finished with value: 0.71587 and parameters: {'n_estimators': 71, 'max_depth': 829, 'max_leaf_nodes': 337, 'criterion': 'gini'}. Best is trial 4 with value: 0.80794.\n",
            "[I 2023-08-04 09:07:26,376] Trial 7 finished with value: 0.76171 and parameters: {'n_estimators': 95, 'max_depth': 226, 'max_leaf_nodes': 1854, 'criterion': 'entropy'}. Best is trial 4 with value: 0.80794.\n",
            "[I 2023-08-04 09:07:32,151] Trial 8 finished with value: 0.7921 and parameters: {'n_estimators': 105, 'max_depth': 354, 'max_leaf_nodes': 3957, 'criterion': 'entropy'}. Best is trial 4 with value: 0.80794.\n",
            "[I 2023-08-04 09:07:38,782] Trial 9 finished with value: 0.79992 and parameters: {'n_estimators': 114, 'max_depth': 367, 'max_leaf_nodes': 6390, 'criterion': 'entropy'}. Best is trial 4 with value: 0.80794.\n",
            "[I 2023-08-04 09:07:43,305] Trial 10 finished with value: 0.80655 and parameters: {'n_estimators': 73, 'max_depth': 998, 'max_leaf_nodes': 9381, 'criterion': 'entropy'}. Best is trial 4 with value: 0.80794.\n",
            "[I 2023-08-04 09:07:49,339] Trial 11 finished with value: 0.80626 and parameters: {'n_estimators': 85, 'max_depth': 126, 'max_leaf_nodes': 7785, 'criterion': 'gini'}. Best is trial 4 with value: 0.80794.\n",
            "[I 2023-08-04 09:07:54,261] Trial 12 finished with value: 0.80388 and parameters: {'n_estimators': 86, 'max_depth': 693, 'max_leaf_nodes': 7938, 'criterion': 'entropy'}. Best is trial 4 with value: 0.80794.\n",
            "[I 2023-08-04 09:07:59,492] Trial 13 finished with value: 0.80497 and parameters: {'n_estimators': 99, 'max_depth': 925, 'max_leaf_nodes': 7805, 'criterion': 'gini'}. Best is trial 4 with value: 0.80794.\n",
            "[I 2023-08-04 09:08:06,465] Trial 14 finished with value: 0.80111 and parameters: {'n_estimators': 115, 'max_depth': 750, 'max_leaf_nodes': 6436, 'criterion': 'gini'}. Best is trial 4 with value: 0.80794.\n",
            "[I 2023-08-04 09:08:11,997] Trial 15 finished with value: 0.80556 and parameters: {'n_estimators': 79, 'max_depth': 108, 'max_leaf_nodes': 8850, 'criterion': 'entropy'}. Best is trial 4 with value: 0.80794.\n",
            "[I 2023-08-04 09:08:16,102] Trial 16 finished with value: 0.80042 and parameters: {'n_estimators': 60, 'max_depth': 554, 'max_leaf_nodes': 6371, 'criterion': 'entropy'}. Best is trial 4 with value: 0.80794.\n",
            "[I 2023-08-04 09:08:22,079] Trial 17 finished with value: 0.80606 and parameters: {'n_estimators': 94, 'max_depth': 844, 'max_leaf_nodes': 8566, 'criterion': 'gini'}. Best is trial 4 with value: 0.80794.\n",
            "[I 2023-08-04 09:08:25,782] Trial 18 finished with value: 0.8018 and parameters: {'n_estimators': 79, 'max_depth': 574, 'max_leaf_nodes': 5632, 'criterion': 'gini'}. Best is trial 4 with value: 0.80794.\n",
            "[I 2023-08-04 09:08:32,284] Trial 19 finished with value: 0.80269 and parameters: {'n_estimators': 91, 'max_depth': 265, 'max_leaf_nodes': 7228, 'criterion': 'entropy'}. Best is trial 4 with value: 0.80794.\n",
            "[I 2023-08-04 09:08:37,014] Trial 20 finished with value: 0.78893 and parameters: {'n_estimators': 105, 'max_depth': 235, 'max_leaf_nodes': 3601, 'criterion': 'entropy'}. Best is trial 4 with value: 0.80794.\n",
            "[I 2023-08-04 09:08:41,747] Trial 21 finished with value: 0.80685 and parameters: {'n_estimators': 72, 'max_depth': 998, 'max_leaf_nodes': 9883, 'criterion': 'entropy'}. Best is trial 4 with value: 0.80794.\n",
            "[I 2023-08-04 09:08:48,413] Trial 22 finished with value: 0.80655 and parameters: {'n_estimators': 80, 'max_depth': 983, 'max_leaf_nodes': 9418, 'criterion': 'entropy'}. Best is trial 4 with value: 0.80794.\n",
            "[I 2023-08-04 09:08:52,423] Trial 23 finished with value: 0.80606 and parameters: {'n_estimators': 62, 'max_depth': 850, 'max_leaf_nodes': 9832, 'criterion': 'entropy'}. Best is trial 4 with value: 0.80794.\n",
            "[I 2023-08-04 09:08:57,083] Trial 24 finished with value: 0.80645 and parameters: {'n_estimators': 75, 'max_depth': 902, 'max_leaf_nodes': 8629, 'criterion': 'entropy'}. Best is trial 4 with value: 0.80794.\n",
            "[I 2023-08-04 09:09:02,854] Trial 25 finished with value: 0.80438 and parameters: {'n_estimators': 67, 'max_depth': 780, 'max_leaf_nodes': 8864, 'criterion': 'entropy'}. Best is trial 4 with value: 0.80794.\n",
            "[I 2023-08-04 09:09:07,537] Trial 26 finished with value: 0.80497 and parameters: {'n_estimators': 92, 'max_depth': 911, 'max_leaf_nodes': 7296, 'criterion': 'gini'}. Best is trial 4 with value: 0.80794.\n",
            "[I 2023-08-04 09:09:10,710] Trial 27 finished with value: 0.80497 and parameters: {'n_estimators': 50, 'max_depth': 670, 'max_leaf_nodes': 9952, 'criterion': 'entropy'}. Best is trial 4 with value: 0.80794.\n",
            "[I 2023-08-04 09:09:17,206] Trial 28 finished with value: 0.79982 and parameters: {'n_estimators': 82, 'max_depth': 485, 'max_leaf_nodes': 5214, 'criterion': 'gini'}. Best is trial 4 with value: 0.80794.\n",
            "[I 2023-08-04 09:09:21,385] Trial 29 finished with value: 0.80626 and parameters: {'n_estimators': 58, 'max_depth': 947, 'max_leaf_nodes': 8458, 'criterion': 'gini'}. Best is trial 4 with value: 0.80794.\n"
          ]
        }
      ]
    },
    {
      "cell_type": "code",
      "source": [
        "# best params\n",
        "study.best_trial.params"
      ],
      "metadata": {
        "colab": {
          "base_uri": "https://localhost:8080/"
        },
        "id": "i90rK71Y1NS0",
        "outputId": "26301680-2580-4337-db0c-e68277edb961"
      },
      "execution_count": null,
      "outputs": [
        {
          "output_type": "execute_result",
          "data": {
            "text/plain": [
              "{'n_estimators': 92,\n",
              " 'max_depth': 995,\n",
              " 'max_leaf_nodes': 9532,\n",
              " 'criterion': 'entropy'}"
            ]
          },
          "metadata": {},
          "execution_count": 44
        }
      ]
    },
    {
      "cell_type": "code",
      "source": [
        "# best score (accuracy)\n",
        "study.best_value"
      ],
      "metadata": {
        "colab": {
          "base_uri": "https://localhost:8080/"
        },
        "id": "UxbjDYiZ1QTx",
        "outputId": "9ab5269a-b168-4076-c7fd-bb73a8e0ac0b"
      },
      "execution_count": null,
      "outputs": [
        {
          "output_type": "execute_result",
          "data": {
            "text/plain": [
              "0.80794"
            ]
          },
          "metadata": {},
          "execution_count": 45
        }
      ]
    }
  ],
  "metadata": {
    "colab": {
      "provenance": [],
      "collapsed_sections": [
        "CrpmX_1lsnfi"
      ]
    },
    "kernelspec": {
      "display_name": "Python 3",
      "name": "python3"
    },
    "language_info": {
      "name": "python"
    }
  },
  "nbformat": 4,
  "nbformat_minor": 0
}